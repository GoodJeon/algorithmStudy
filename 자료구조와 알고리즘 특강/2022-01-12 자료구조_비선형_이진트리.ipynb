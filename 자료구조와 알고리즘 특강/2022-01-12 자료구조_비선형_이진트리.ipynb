{
 "cells": [
  {
   "cell_type": "markdown",
   "metadata": {},
   "source": [
    "# 이진 트리"
   ]
  },
  {
   "cell_type": "markdown",
   "metadata": {},
   "source": [
    "## 트리구조란?\n",
    "* 회사 사장을 필두로 그 아래 직책들이 구성되어 있는 조직표 또는 컴퓨터 상위 폴더 안에 하위 폴더들이 계속 이어져 있는 구조와 같은 구성"
   ]
  },
  {
   "cell_type": "markdown",
   "metadata": {},
   "source": [
    "## 이진 트리의 개념\n",
    "* 트리(Tree) 자료 구조는 나무를 거꾸로 뒤집어 놓은 형태"
   ]
  },
  {
   "cell_type": "markdown",
   "metadata": {},
   "source": [
    "## 트리 자료구조 용어\n",
    "* 루트(root) : 가장 기초가 되는 노드(레벨 0)\n",
    "* 간선(edge) : 노드와 노드를 이어주는 선\n",
    "* 차수 : 부모 노드가 가지고 있는 자식 노드의 수\n",
    "* 리프노드 : 자식 노드를 갖고 있지 않은 노드"
   ]
  },
  {
   "cell_type": "markdown",
   "metadata": {},
   "source": [
    "## 이진 트리의 종류\n",
    "* 포화 이진 트리, 완전 이진 트리, 편향 이진 트리 등"
   ]
  },
  {
   "cell_type": "markdown",
   "metadata": {},
   "source": [
    "## 이진 트리의 순회\n",
    "* 순회 종류 \n",
    "    * 이진 트리의 노드 전체를 한 번씩 방문하는 것을 순회(traversal)라고 함\n",
    "    * 노드 데이터를 처리하는 순서에 따라 전위 순회, 중위 순회, 후위 순회\n",
    "\n",
    "1. 전위 순회(preorder traversal)\n",
    "    1. **현재 노드 데이터 처리**\n",
    "    2. 왼쪽 서브 트리로 이동\n",
    "    3. 오른쪽 서브 트리로 이동\n",
    "    \n",
    "2. 중위 순회(inorder traversal)\n",
    "    1. 왼쪽 서브 트리로 이동\n",
    "    2. **현재 노드 데이터 처리**\n",
    "    3. 오른쪽 서브트리로 이동\n",
    "    \n",
    "3. 후위 순회(postorder traversal)\n",
    "    1. 왼쪽 서브 트리로 이동\n",
    "    2. 오른쪽 서브 트리로 이동\n",
    "    3. **현재 노드 데이터 처리**"
   ]
  },
  {
   "cell_type": "markdown",
   "metadata": {},
   "source": [
    "## 이진트리구현"
   ]
  },
  {
   "cell_type": "markdown",
   "metadata": {},
   "source": [
    "### 전역"
   ]
  },
  {
   "cell_type": "code",
   "execution_count": null,
   "metadata": {},
   "outputs": [],
   "source": []
  },
  {
   "cell_type": "markdown",
   "metadata": {},
   "source": [
    "### 함수"
   ]
  },
  {
   "cell_type": "code",
   "execution_count": 1,
   "metadata": {},
   "outputs": [],
   "source": [
    "class TreeNode():\n",
    "    def __init__(self):\n",
    "        self.left = None\n",
    "        self.data = None\n",
    "        self.right = None"
   ]
  },
  {
   "cell_type": "markdown",
   "metadata": {},
   "source": [
    "### 메인"
   ]
  },
  {
   "cell_type": "code",
   "execution_count": 2,
   "metadata": {},
   "outputs": [],
   "source": [
    "node1 = TreeNode()\n",
    "node1.data = '화사'\n",
    "\n",
    "node2 = TreeNode()\n",
    "node2.data = '솔라'\n",
    "node1.left = node2\n",
    "\n",
    "node3 = TreeNode()\n",
    "node3.data = '문별'\n",
    "node1.right = node3\n",
    "\n",
    "node4 = TreeNode()\n",
    "node4.data = '휘인'\n",
    "node2.left = node4\n",
    "\n",
    "node5 = TreeNode()\n",
    "node5.data = '쯔위'\n",
    "node2.right = node5\n",
    "\n",
    "node6 = TreeNode()\n",
    "node6.data = '선미'\n",
    "node3.left = node6\n"
   ]
  },
  {
   "cell_type": "code",
   "execution_count": 4,
   "metadata": {},
   "outputs": [
    {
     "name": "stdout",
     "output_type": "stream",
     "text": [
      "화사\n",
      "솔라 문별\n",
      "휘인 쯔위 선미\n"
     ]
    }
   ],
   "source": [
    "print(node1.data)\n",
    "print(node1.left.data, node1.right.data)\n",
    "print(node1.left.left.data, node1.left.right.data, node1.right.left.data)"
   ]
  },
  {
   "cell_type": "markdown",
   "metadata": {},
   "source": [
    "---"
   ]
  }
 ],
 "metadata": {
  "kernelspec": {
   "display_name": "Python 3",
   "language": "python",
   "name": "python3"
  },
  "language_info": {
   "codemirror_mode": {
    "name": "ipython",
    "version": 3
   },
   "file_extension": ".py",
   "mimetype": "text/x-python",
   "name": "python",
   "nbconvert_exporter": "python",
   "pygments_lexer": "ipython3",
   "version": "3.8.5"
  }
 },
 "nbformat": 4,
 "nbformat_minor": 4
}
