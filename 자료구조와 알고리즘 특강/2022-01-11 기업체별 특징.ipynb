{
 "cells": [
  {
   "cell_type": "markdown",
   "metadata": {},
   "source": [
    "# 회사별 특징(강사님 개인 의견)"
   ]
  },
  {
   "cell_type": "markdown",
   "metadata": {},
   "source": [
    "## 대표적인 기업 문화"
   ]
  },
  {
   "cell_type": "markdown",
   "metadata": {},
   "source": [
    "### 삼성"
   ]
  },
  {
   "cell_type": "markdown",
   "metadata": {},
   "source": [
    "1. 일등주의\n",
    "1. 인간미가 약함\n",
    "    * 부서 배정 전에 교육\n",
    "    * 인기있는 부서에 가고싶어서 서로 경쟁\n",
    "   "
   ]
  },
  {
   "cell_type": "markdown",
   "metadata": {},
   "source": [
    "### LG"
   ]
  },
  {
   "cell_type": "markdown",
   "metadata": {},
   "source": [
    "1. 인간미가 강하다.\n",
    "    * 못푸는 친구들을 다같이 도와줘서 다같이 빨리 끝내려함.\n",
    "    * 부서 배정 후에 교육함"
   ]
  },
  {
   "cell_type": "markdown",
   "metadata": {},
   "source": [
    "### KT"
   ]
  },
  {
   "cell_type": "markdown",
   "metadata": {},
   "source": [
    "1. 안정적\n",
    "2. 수직적 문화(상하관계 명확 = 공무원 문화)\n",
    "    * 질문시간에 질문을 안함.. 눈치보여서"
   ]
  },
  {
   "cell_type": "markdown",
   "metadata": {},
   "source": [
    "### CJ"
   ]
  },
  {
   "cell_type": "markdown",
   "metadata": {},
   "source": [
    "1. 문화적 성격이 강함\n",
    "1. 홍길동님/이순신님 등 이름에 '님'호칭 => 평등한 느낌"
   ]
  },
  {
   "cell_type": "markdown",
   "metadata": {},
   "source": [
    "### 한국전력"
   ]
  },
  {
   "cell_type": "markdown",
   "metadata": {},
   "source": [
    "1. 더 안정적.\n",
    "2. 준 공무원(수직문화)"
   ]
  },
  {
   "cell_type": "markdown",
   "metadata": {},
   "source": [
    "### 네이버, 카카오, 쿠팡(네카라쿠배)"
   ]
  },
  {
   "cell_type": "markdown",
   "metadata": {},
   "source": [
    "1. 이런 회사 들어갈려고 교육하는 학원도 있다네요~\n",
    "2. 실적에 대한 스트레스가 장난~ 아님"
   ]
  },
  {
   "cell_type": "markdown",
   "metadata": {},
   "source": [
    "---"
   ]
  },
  {
   "cell_type": "markdown",
   "metadata": {},
   "source": [
    "## 기업 구분 별"
   ]
  },
  {
   "cell_type": "markdown",
   "metadata": {},
   "source": [
    "### 대기업"
   ]
  },
  {
   "cell_type": "markdown",
   "metadata": {},
   "source": [
    "* 장점 : 복지, 급여.. 등등\n",
    "* 단점 : 사람의 부품화, 호환성이 떨어짐, 경력직을 많이 뽑음  \n",
    "ex) LG : 50%이상이 경력직, 중소기업에서 LG로 이직"
   ]
  },
  {
   "cell_type": "markdown",
   "metadata": {},
   "source": [
    "### 중견기업"
   ]
  },
  {
   "cell_type": "markdown",
   "metadata": {},
   "source": [
    "* 장점 : 역할이 다양, 호환성이 좋음, 이직이 수월(좋은 경력을 쌓은 사람 한정), 인기있는 경력자(3~5년)\n",
    "* 단점 : 1+1+1(메뚜기:여러 곳 더해서 3년) 같은 경력은 위험"
   ]
  },
  {
   "cell_type": "markdown",
   "metadata": {},
   "source": [
    "### 스타트업"
   ]
  },
  {
   "cell_type": "markdown",
   "metadata": {},
   "source": [
    "* 장점 : 진취적으로 보일 수 있다.\n",
    "* 단점 : 망하는 회사가 대부분"
   ]
  },
  {
   "cell_type": "markdown",
   "metadata": {},
   "source": [
    "### 공무원, 공사"
   ]
  },
  {
   "cell_type": "markdown",
   "metadata": {},
   "source": [
    "* 가치관에 따라 다를 수 있다.\n",
    "* 허나, 발전이 없다."
   ]
  },
  {
   "cell_type": "markdown",
   "metadata": {},
   "source": [
    "### 외국계 기업"
   ]
  },
  {
   "cell_type": "markdown",
   "metadata": {},
   "source": [
    "* 장점 : 해당 기업 국가 휴일에도 쉰다.(미국회사면 미국휴일 한국휴일 다 쉼), 완전 경쟁에서 이길 수 있는 자신감이 있다면\n",
    "* 단점 : 팀 실적회식을 했는데 다음 날 아침 짤림..(ex: 아마존 평균 근속년수 1년?)"
   ]
  },
  {
   "cell_type": "markdown",
   "metadata": {},
   "source": [
    "---"
   ]
  },
  {
   "cell_type": "markdown",
   "metadata": {},
   "source": [
    "## 회사 선택 시 고려사항"
   ]
  },
  {
   "cell_type": "markdown",
   "metadata": {},
   "source": [
    "1. **출퇴근**이 편한 곳\n",
    "    * 우울해진다.. 몸도마음도 상하면  \n",
    "1. **비전**(내 비전 O, 회사 비전 X)\n",
    "    * 일을 배울만한 곳\n",
    "1. 사람을 자주 뽑는 곳 **X**\n",
    "    * 왜냐 ? 자주 나가니깐 자주뽑는다.\n",
    "    * 그래서 취업사이트를 계속 봐야한다."
   ]
  },
  {
   "cell_type": "markdown",
   "metadata": {},
   "source": [
    "---"
   ]
  },
  {
   "cell_type": "markdown",
   "metadata": {},
   "source": [
    "## 방향성"
   ]
  },
  {
   "cell_type": "markdown",
   "metadata": {},
   "source": [
    "### 분야 : 4차산업 중 택일!\n",
    "-> 특히 **프로그래밍** + 넘파이, 판다스.. **국산 버전, 인공지능 툴**  \n",
    "-> **열심히 오랫동안, 방향성을 잡고**"
   ]
  }
 ],
 "metadata": {
  "kernelspec": {
   "display_name": "Python 3",
   "language": "python",
   "name": "python3"
  },
  "language_info": {
   "codemirror_mode": {
    "name": "ipython",
    "version": 3
   },
   "file_extension": ".py",
   "mimetype": "text/x-python",
   "name": "python",
   "nbconvert_exporter": "python",
   "pygments_lexer": "ipython3",
   "version": "3.8.5"
  }
 },
 "nbformat": 4,
 "nbformat_minor": 4
}
