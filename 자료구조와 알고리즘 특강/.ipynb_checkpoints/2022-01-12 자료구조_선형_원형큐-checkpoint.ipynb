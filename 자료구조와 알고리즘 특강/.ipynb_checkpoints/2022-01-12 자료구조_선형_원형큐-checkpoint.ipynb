{
 "cells": [
  {
   "cell_type": "markdown",
   "metadata": {},
   "source": [
    "# 원형 큐"
   ]
  },
  {
   "cell_type": "markdown",
   "metadata": {},
   "source": [
    "## 원형 큐란?\n",
    "* 큐의 처음과 끝이 연결된 구조"
   ]
  },
  {
   "cell_type": "markdown",
   "metadata": {},
   "source": [
    "## 차이점"
   ]
  },
  {
   "cell_type": "markdown",
   "metadata": {},
   "source": [
    "1. 순차 큐에서는 오버헤드가 발생하지만 원형 큐는 처음과 끝이 연결되어 있어 오버헤드가 발생하지 않는다.\n",
    "2. 큐가 꽉찬 상태이지만 front가 rear보다 크게 되었을 때 비었다고 인식할 수 있다. 그래서  **`% 큐의크기`** 를 사용해 그 점을 방지하는 것이 원형 큐다."
   ]
  },
  {
   "cell_type": "markdown",
   "metadata": {},
   "source": [
    "## 원형 큐 구현"
   ]
  },
  {
   "cell_type": "markdown",
   "metadata": {},
   "source": [
    "### 전역"
   ]
  },
  {
   "cell_type": "code",
   "execution_count": 33,
   "metadata": {},
   "outputs": [],
   "source": [
    "SIZE = 5\n",
    "queue = [None for _ in range(SIZE)] # list_comprehension으로 queue  생성\n",
    "front = rear = -1"
   ]
  },
  {
   "cell_type": "markdown",
   "metadata": {},
   "source": [
    "### 함수"
   ]
  },
  {
   "cell_type": "code",
   "execution_count": 34,
   "metadata": {},
   "outputs": [],
   "source": [
    "def isQueueEmpty(): # 큐가 비었는지 확인하는 함수\n",
    "    global SIZE, queue, front, rear\n",
    "    if (rear == front):\n",
    "        return True\n",
    "    else:\n",
    "        return False\n",
    "\n",
    "def isQueueFull(): # 큐가 꽉찼는지 확인하는 함수\n",
    "    global SIZE, queue, front, rear\n",
    "    if ((rear+1) % SIZE == front):\n",
    "        return True\n",
    "    else:\n",
    "        return False\n",
    "\n",
    "    \n",
    "def enQueue(data): # 큐에 데이터를 넣는 함수\n",
    "    global SIZE, queue, front, rear\n",
    "    if (isQueueFull()):\n",
    "        print('큐가 꽉 찼습니다.')\n",
    "        return\n",
    "    rear = (rear + 1) % SIZE\n",
    "    queue[rear] = data\n",
    "    \n",
    "\n",
    "def deQueue(): # 큐에서 데이터를 빼는 함수\n",
    "    global SIZE, queue, front, rear\n",
    "    if isQueueEmpty():\n",
    "        print('큐가 비었습니다.')\n",
    "        return None\n",
    "    front = (front+1) % SIZE\n",
    "    data = queue[front]\n",
    "    queue[front] = None\n",
    "    return data\n",
    "\n",
    "\n",
    "def peek(): # 다음 나올 데이터를 알려주는 함수\n",
    "    global SIZE, queue, front, rear\n",
    "    if isQueueEmpty():\n",
    "        print('큐가 비었습니다.')\n",
    "        return None\n",
    "    return queue[(front+1) % SIZE]"
   ]
  },
  {
   "cell_type": "markdown",
   "metadata": {},
   "source": [
    "### 메인"
   ]
  },
  {
   "cell_type": "code",
   "execution_count": 35,
   "metadata": {},
   "outputs": [
    {
     "name": "stdout",
     "output_type": "stream",
     "text": [
      "['화사', '솔라', '문별', '선미', '동준']\n",
      "밥 손님 :  화사\n",
      "밥 손님 :  솔라\n",
      "[None, None, '문별', '선미', '동준']\n",
      "['아이유', None, '문별', '선미', '동준']\n",
      "밥 손님 :  문별\n",
      "['아이유', '박진영', None, '선미', '동준']\n",
      "밥 손님 :  선미\n",
      "['아이유', '박진영', '백종원', None, '동준']\n",
      "밥 손님 :  동준\n",
      "밥 손님 :  아이유\n",
      "[None, '박진영', '백종원', '유재석', None]\n"
     ]
    }
   ],
   "source": [
    "enQueue('화사')\n",
    "enQueue('솔라')\n",
    "enQueue('문별')\n",
    "enQueue('선미')\n",
    "enQueue('동준')\n",
    "print(queue)\n",
    "print('밥 손님 : ', deQueue())\n",
    "print('밥 손님 : ', deQueue())\n",
    "print(queue)\n",
    "enQueue('아이유') \n",
    "print(queue)\n",
    "print('밥 손님 : ', deQueue())\n",
    "enQueue('박진영')\n",
    "print(queue)\n",
    "print('밥 손님 : ', deQueue())\n",
    "enQueue('백종원')\n",
    "print(queue)\n",
    "print('밥 손님 : ', deQueue())\n",
    "print('밥 손님 : ', deQueue())\n",
    "enQueue('유재석')\n",
    "print(queue)"
   ]
  }
 ],
 "metadata": {
  "kernelspec": {
   "display_name": "Python 3",
   "language": "python",
   "name": "python3"
  },
  "language_info": {
   "codemirror_mode": {
    "name": "ipython",
    "version": 3
   },
   "file_extension": ".py",
   "mimetype": "text/x-python",
   "name": "python",
   "nbconvert_exporter": "python",
   "pygments_lexer": "ipython3",
   "version": "3.8.5"
  }
 },
 "nbformat": 4,
 "nbformat_minor": 4
}
