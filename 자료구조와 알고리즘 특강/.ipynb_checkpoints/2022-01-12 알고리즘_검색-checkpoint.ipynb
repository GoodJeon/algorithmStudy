{
 "cells": [
  {
   "cell_type": "markdown",
   "metadata": {},
   "source": [
    "# 검색"
   ]
  },
  {
   "cell_type": "markdown",
   "metadata": {},
   "source": [
    "* 검색은 정렬된 상태에서 빠르게 원하는 것을 찾을 수 있음."
   ]
  },
  {
   "cell_type": "markdown",
   "metadata": {},
   "source": [
    "## 검색의 개념\n",
    "* 어떤 집합에서 원하는 것을 찾는 것으로, 탐색이라고도 함\n",
    "* 검색에는 순차 검색, 이진 검색, 트리 검색 등이 있음\n",
    "* 검색에 실패하면 -1을 반환하는 것이 일반적임"
   ]
  },
  {
   "cell_type": "markdown",
   "metadata": {},
   "source": [
    "## 검색 알고리즘의 종류"
   ]
  },
  {
   "cell_type": "markdown",
   "metadata": {},
   "source": [
    "* 순차 검색\n",
    "    * 검색할 집합이 정렬되어 있지 않은 상태일 때\n",
    "    * 처음부터 차례대로 찾아보는 것으로, 쉽지만 비효율적\n",
    "    * 집합의 데이터가 정렬되어 있지 않다면 이 검색 외에 특별한 방법 없음\n",
    "    \n",
    "* 이진 검색\n",
    "    * 데이터가 정렬되어 있다면 이진 검색도 사용 가능\n",
    "    * 순차 검색에 비해 월등히 효율적이라 데이터가 몇 천만개 이상이어도 빠르게 찾음\n",
    "    \n",
    "* 트리 검색\n",
    "    * 데이터 검색에는 상당히 효율적이지만 트리의 삽입, 삭제 등에는 부담"
   ]
  },
  {
   "cell_type": "markdown",
   "metadata": {},
   "source": [
    "### 순차 검색"
   ]
  },
  {
   "cell_type": "markdown",
   "metadata": {},
   "source": [
    "#### 전역"
   ]
  },
  {
   "cell_type": "code",
   "execution_count": 39,
   "metadata": {},
   "outputs": [],
   "source": [
    "import random\n",
    "SIZE = 10\n",
    "dataAry = [random.randint(1,99) for _ in range(10)]\n",
    "findData = dataAry[random.randint(0, SIZE-1)]"
   ]
  },
  {
   "cell_type": "markdown",
   "metadata": {},
   "source": [
    "#### 함수"
   ]
  },
  {
   "cell_type": "code",
   "execution_count": 13,
   "metadata": {},
   "outputs": [],
   "source": [
    "def seqSearch(ary, fData):\n",
    "    pos = -1\n",
    "    size = len(ary)\n",
    "    for i in range(0, size, 1):\n",
    "        if (ary[i] == fData):\n",
    "            pos = i\n",
    "            break\n",
    "    return pos\n",
    "        "
   ]
  },
  {
   "cell_type": "markdown",
   "metadata": {},
   "source": [
    "#### 메인"
   ]
  },
  {
   "cell_type": "code",
   "execution_count": 38,
   "metadata": {},
   "outputs": [
    {
     "name": "stdout",
     "output_type": "stream",
     "text": [
      "배열--> [7, 45, 32, 60, 31, 81, 82, 97, 74, 80]\n",
      "31 가 4  에 있음\n"
     ]
    }
   ],
   "source": [
    "print('배열-->', dataAry)\n",
    "position = seqSearch(dataAry, findData)\n",
    "if position == -1:\n",
    "    print(findData, '없어요 ㅠ')\n",
    "else:\n",
    "    print(findData, '가', position, ' 에 있음')"
   ]
  }
 ],
 "metadata": {
  "kernelspec": {
   "display_name": "Python 3",
   "language": "python",
   "name": "python3"
  },
  "language_info": {
   "codemirror_mode": {
    "name": "ipython",
    "version": 3
   },
   "file_extension": ".py",
   "mimetype": "text/x-python",
   "name": "python",
   "nbconvert_exporter": "python",
   "pygments_lexer": "ipython3",
   "version": "3.8.5"
  }
 },
 "nbformat": 4,
 "nbformat_minor": 4
}
