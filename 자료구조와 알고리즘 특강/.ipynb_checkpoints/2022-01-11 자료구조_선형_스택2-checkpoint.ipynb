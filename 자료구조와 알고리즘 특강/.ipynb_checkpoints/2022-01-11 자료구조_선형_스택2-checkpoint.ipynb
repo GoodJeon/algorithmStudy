{
 "cells": [
  {
   "cell_type": "markdown",
   "metadata": {},
   "source": [
    "# 스택"
   ]
  },
  {
   "cell_type": "markdown",
   "metadata": {},
   "source": [
    "## 스택 구현"
   ]
  },
  {
   "cell_type": "markdown",
   "metadata": {},
   "source": [
    "### 함수"
   ]
  },
  {
   "cell_type": "code",
   "execution_count": 17,
   "metadata": {},
   "outputs": [],
   "source": [
    "def isStackFull(): # 스택이 꽉 찼는지 확인하는 함수\n",
    "    global SIZE, stack, top # 전역변수를 불러온다.\n",
    "    if (top >= SIZE-1):\n",
    "        return True\n",
    "    else:\n",
    "        return False\n",
    "\n",
    "\n",
    "def isStackEmpty(): # 스택이 비었는지 확인하는 함수\n",
    "    global SIZE, stack, top\n",
    "    if (top <= -1):\n",
    "        return True\n",
    "    else:\n",
    "        return False\n",
    "\n",
    "\n",
    "def push(data): # 스택에 데이터를 넣어주는 함수\n",
    "    global SIZE, stack, top\n",
    "    if isStackFull():\n",
    "        print('스택이 가득찼습니다.')\n",
    "        return\n",
    "    top += 1\n",
    "    stack[top] = data\n",
    "        \n",
    "\n",
    "def pop():\n",
    "    global SIZE, stack, top\n",
    "    if isStackEmpty():\n",
    "        print('스택이 텅텅 비었습니다.')\n",
    "        return\n",
    "    data = stack[top]\n",
    "    stack[top] = None \n",
    "    top -= 1\n",
    "    return data\n",
    "\n",
    "\n",
    "\n",
    "def peek(): # 맨 위에 뭐있는 확인하는 함수\n",
    "    global SIZE, stack, top\n",
    "    if isStackEmpty():\n",
    "        print('스택이 텅텅 비었어유')\n",
    "        return\n",
    "    return stack[top]\n"
   ]
  },
  {
   "cell_type": "markdown",
   "metadata": {},
   "source": [
    "### 전역"
   ]
  },
  {
   "cell_type": "code",
   "execution_count": 14,
   "metadata": {},
   "outputs": [],
   "source": [
    "SIZE = 5\n",
    "stack = [None for _ in range(SIZE)] # 스택의 크기를 SIZE로 지정\n",
    "top = -1 # 스택이 비어있는 상태"
   ]
  },
  {
   "cell_type": "markdown",
   "metadata": {},
   "source": [
    "### 메인"
   ]
  },
  {
   "cell_type": "markdown",
   "metadata": {},
   "source": [
    "#### 1) push"
   ]
  },
  {
   "cell_type": "code",
   "execution_count": 15,
   "metadata": {},
   "outputs": [
    {
     "name": "stdout",
     "output_type": "stream",
     "text": [
      "['커피1', '커피2', '커피3', '커피4', '커피5']\n",
      "스택이 가득찼습니다.\n"
     ]
    }
   ],
   "source": [
    "push('커피1')\n",
    "push('커피2')\n",
    "push('커피3')\n",
    "push('커피4')\n",
    "push('커피5')\n",
    "print(stack)\n",
    "push('커피6')"
   ]
  },
  {
   "cell_type": "markdown",
   "metadata": {},
   "source": [
    "#### 2) pop"
   ]
  },
  {
   "cell_type": "code",
   "execution_count": 16,
   "metadata": {},
   "outputs": [
    {
     "name": "stdout",
     "output_type": "stream",
     "text": [
      "팝 ---> 커피5\n",
      "팝 ---> 커피4\n",
      "팝 ---> 커피3\n",
      "['커피1', '커피2', None, None, None]\n"
     ]
    }
   ],
   "source": [
    "returnData = pop()\n",
    "print('팝 --->', returnData)\n",
    "returnData = pop()\n",
    "print('팝 --->', returnData)\n",
    "returnData = pop()\n",
    "print('팝 --->', returnData)\n",
    "\n",
    "print(stack)\n"
   ]
  },
  {
   "cell_type": "markdown",
   "metadata": {},
   "source": [
    "#### 3) peek"
   ]
  },
  {
   "cell_type": "code",
   "execution_count": 23,
   "metadata": {},
   "outputs": [
    {
     "name": "stdout",
     "output_type": "stream",
     "text": [
      "다음에 빠질 것은? 커피2\n"
     ]
    }
   ],
   "source": [
    "print('다음에 빠질 것은?',peek())"
   ]
  }
 ],
 "metadata": {
  "kernelspec": {
   "display_name": "Python 3",
   "language": "python",
   "name": "python3"
  },
  "language_info": {
   "codemirror_mode": {
    "name": "ipython",
    "version": 3
   },
   "file_extension": ".py",
   "mimetype": "text/x-python",
   "name": "python",
   "nbconvert_exporter": "python",
   "pygments_lexer": "ipython3",
   "version": "3.8.5"
  }
 },
 "nbformat": 4,
 "nbformat_minor": 4
}
