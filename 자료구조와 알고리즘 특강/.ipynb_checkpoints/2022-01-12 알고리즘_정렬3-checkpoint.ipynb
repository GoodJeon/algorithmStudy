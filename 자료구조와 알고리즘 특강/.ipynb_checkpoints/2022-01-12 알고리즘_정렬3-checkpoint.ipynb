{
 "cells": [
  {
   "cell_type": "markdown",
   "metadata": {},
   "source": [
    "### 선택 정렬 구현 3(방 한개를 씀)"
   ]
  },
  {
   "cell_type": "markdown",
   "metadata": {},
   "source": [
    "#### 전역"
   ]
  },
  {
   "cell_type": "code",
   "execution_count": 8,
   "metadata": {},
   "outputs": [],
   "source": [
    "import random\n",
    "dataAry = [random.randint(100,200) for _ in range(10)]"
   ]
  },
  {
   "cell_type": "markdown",
   "metadata": {},
   "source": [
    "#### 함수"
   ]
  },
  {
   "cell_type": "code",
   "execution_count": 6,
   "metadata": {},
   "outputs": [],
   "source": [
    "def selectionSort(ary):\n",
    "    n = len(ary)\n",
    "    for cy in range(0, n-1):\n",
    "        minIdx = cy\n",
    "        for i in range(cy+1, n):\n",
    "            if (ary[minIdx] > ary[i]):\n",
    "                minIdx = i\n",
    "        ary[cy], ary[minIdx] = ary[minIdx], ary[cy]\n",
    "    return ary"
   ]
  },
  {
   "cell_type": "markdown",
   "metadata": {},
   "source": [
    "#### 메인"
   ]
  },
  {
   "cell_type": "code",
   "execution_count": 7,
   "metadata": {},
   "outputs": [
    {
     "name": "stdout",
     "output_type": "stream",
     "text": [
      "정렬 전--> [119, 163, 187, 133, 195, 152, 142, 168, 118, 177]\n",
      "정렬 후--> [118, 119, 133, 142, 152, 163, 168, 177, 187, 195]\n"
     ]
    }
   ],
   "source": [
    "print('정렬 전-->', dataAry)\n",
    "dataAry = selectionSort(dataAry)\n",
    "print('정렬 후-->', dataAry)"
   ]
  }
 ],
 "metadata": {
  "kernelspec": {
   "display_name": "Python 3",
   "language": "python",
   "name": "python3"
  },
  "language_info": {
   "codemirror_mode": {
    "name": "ipython",
    "version": 3
   },
   "file_extension": ".py",
   "mimetype": "text/x-python",
   "name": "python",
   "nbconvert_exporter": "python",
   "pygments_lexer": "ipython3",
   "version": "3.8.5"
  }
 },
 "nbformat": 4,
 "nbformat_minor": 4
}
