{
 "cells": [
  {
   "cell_type": "markdown",
   "metadata": {},
   "source": [
    "# 큐(Queue)"
   ]
  },
  {
   "cell_type": "markdown",
   "metadata": {},
   "source": [
    "## 큐란?\n",
    ": 기차가 터널에 들어가는 순서대로 터널을 빠져나오고, ATM기에서 줄을 선 순서대로 예금을 인출하는 것처럼 큐는 먼저 들어간 것이 먼저 나오는 구조를 의미"
   ]
  },
  {
   "cell_type": "markdown",
   "metadata": {},
   "source": [
    "## 큐의 개념\n",
    "* `큐(Queue)` 자료 구조는 입구와 출구가 따로 있는 원통 형태\n",
    "* 스택(Stack)은 **선입후출(FILO)**, 큐는 **선입선출(FIFO)**"
   ]
  },
  {
   "cell_type": "markdown",
   "metadata": {},
   "source": [
    "## 큐 원리\n",
    "* 구조와 용어\n",
    "    * 큐에 데이터를 삽입하는 작동 : enQueue(인큐)\n",
    "    * 데이터를 추출하는 작동 : deQueue(데큐)\n",
    "    * 저장된 데이터 중 첫 번째 데이터 : front(머리)\n",
    "    * 저장된 데이터 중 마지막 데이터 : rear(꼬리)\n",
    "\n",
    "* 꼬리로 들어가서 머리로 나옴\n",
    "* front와 rear가 같으면 빈 큐"
   ]
  },
  {
   "cell_type": "markdown",
   "metadata": {},
   "source": [
    "## 큐 생성\n",
    "* 배열 크기를 지정한 후 해당 크기의 빈 큐 생성"
   ]
  },
  {
   "cell_type": "markdown",
   "metadata": {},
   "source": [
    "### 큐 구현"
   ]
  },
  {
   "cell_type": "markdown",
   "metadata": {},
   "source": [
    "#### 전역"
   ]
  },
  {
   "cell_type": "code",
   "execution_count": 19,
   "metadata": {},
   "outputs": [],
   "source": [
    "SIZE = 5\n",
    "queue = [None for _ in range(SIZE)] # list_comprehension으로 queue  생성\n",
    "front = rear = -1"
   ]
  },
  {
   "cell_type": "markdown",
   "metadata": {},
   "source": [
    "#### 함수"
   ]
  },
  {
   "cell_type": "code",
   "execution_count": null,
   "metadata": {},
   "outputs": [],
   "source": []
  },
  {
   "cell_type": "markdown",
   "metadata": {},
   "source": [
    "#### 메인"
   ]
  },
  {
   "cell_type": "markdown",
   "metadata": {},
   "source": [
    "##### 1) enQueue(입력)"
   ]
  },
  {
   "cell_type": "code",
   "execution_count": 20,
   "metadata": {},
   "outputs": [
    {
     "name": "stdout",
     "output_type": "stream",
     "text": [
      "출구<---- ['화사', '솔라', '문별', None, None] <----입구\n"
     ]
    }
   ],
   "source": [
    "rear += 1\n",
    "queue[rear] = '화사'\n",
    "rear += 1\n",
    "queue[rear] = '솔라'\n",
    "rear += 1\n",
    "queue[rear] = '문별'\n",
    "\n",
    "print('출구<----', queue, '<----입구')"
   ]
  },
  {
   "cell_type": "markdown",
   "metadata": {},
   "source": [
    "##### 2) deQueue(출력)"
   ]
  },
  {
   "cell_type": "code",
   "execution_count": 21,
   "metadata": {},
   "outputs": [
    {
     "name": "stdout",
     "output_type": "stream",
     "text": [
      "밥 손님 ---> 화사\n",
      "밥 손님 ---> 솔라\n",
      "밥 손님 ---> 문별\n",
      "[None, None, None, None, None]\n"
     ]
    }
   ],
   "source": [
    "front += 1\n",
    "data = queue[front]\n",
    "queue[front] = None\n",
    "print('밥 손님 --->', data)\n",
    "front += 1\n",
    "data = queue[front]\n",
    "queue[front] = None\n",
    "print('밥 손님 --->', data)\n",
    "front += 1\n",
    "data = queue[front]\n",
    "queue[front] = None\n",
    "print('밥 손님 --->', data)\n",
    "\n",
    "print(queue)"
   ]
  }
 ],
 "metadata": {
  "kernelspec": {
   "display_name": "Python 3",
   "language": "python",
   "name": "python3"
  },
  "language_info": {
   "codemirror_mode": {
    "name": "ipython",
    "version": 3
   },
   "file_extension": ".py",
   "mimetype": "text/x-python",
   "name": "python",
   "nbconvert_exporter": "python",
   "pygments_lexer": "ipython3",
   "version": "3.8.5"
  }
 },
 "nbformat": 4,
 "nbformat_minor": 4
}
