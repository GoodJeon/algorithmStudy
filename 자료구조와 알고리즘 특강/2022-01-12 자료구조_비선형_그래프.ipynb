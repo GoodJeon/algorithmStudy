{
 "cells": [
  {
   "cell_type": "markdown",
   "metadata": {},
   "source": [
    "# 그래프"
   ]
  },
  {
   "cell_type": "markdown",
   "metadata": {},
   "source": [
    "## 그래프 구조란?\n",
    "* 버스 정류장과 여러 노선이 함께 포함된 형태 또는, 링크드인(Linked in)과 같은 사회 관계망 서비스의 연결 등의 형태"
   ]
  },
  {
   "cell_type": "markdown",
   "metadata": {},
   "source": [
    "## 그래프의 개념\n",
    "* 여러 노드가 서로 연결된 자료구조\n",
    "* 예) 지하철 노선도, 도시 도로망, 전기 회로도, 인맥 관계도"
   ]
  },
  {
   "cell_type": "markdown",
   "metadata": {},
   "source": [
    "## 그래프의 종류\n",
    "1. 무방향 그래프\n",
    "    * **`간선(Edge)`**에 방향성이 없는 그래프\n",
    "2. 방향 그래프\n",
    "    * 화살표로 간선 방향을 표기하고, 그래프의 정점 집합이 무방향 그래프와 같음\n",
    "3. 가중치 그래프\n",
    "    * 간선마다 가중치가 다르게 부여된 그래프\n",
    "    * 무방향 그래프와 방향 그래프에 각각 가중치를 부여한 경우"
   ]
  },
  {
   "cell_type": "markdown",
   "metadata": {},
   "source": [
    "## 깊이 우선 탐색의 작동\n",
    "* 그래프의 모든 정점을 한 번씩 방문하는 것을 그래프 순회(Graph Traversal)라고 함\n",
    "* 그래프 순회 방식은 깊이 우선 탐색, 너비 우선 탐색이 대표적"
   ]
  },
  {
   "cell_type": "markdown",
   "metadata": {},
   "source": [
    "## 그래프의 인접 행렬 표현\n",
    "* 그래프를 코드로 구현할 때는 인접 행렬을 사용\n",
    "* 인접 행렬은 정방향으로 구성된 행렬로 정점이 4개인 그래프는 4x4로 표현\n",
    "* 인접 행렬은 대각선으로 대칭"
   ]
  },
  {
   "cell_type": "markdown",
   "metadata": {},
   "source": [
    "### 함수"
   ]
  },
  {
   "cell_type": "code",
   "execution_count": 7,
   "metadata": {},
   "outputs": [],
   "source": [
    "class Graph():\n",
    "    def __init__(self, size): # size = 정점의 개수\n",
    "        self.SIZE = size\n",
    "        self.graph = [ [0 for _ in range(size)] for _ in range(size)]\n",
    "        "
   ]
  },
  {
   "cell_type": "markdown",
   "metadata": {},
   "source": [
    "### 전역"
   ]
  },
  {
   "cell_type": "code",
   "execution_count": 8,
   "metadata": {},
   "outputs": [],
   "source": [
    "G = None\n"
   ]
  },
  {
   "cell_type": "markdown",
   "metadata": {},
   "source": [
    "### 메인\n"
   ]
  },
  {
   "cell_type": "code",
   "execution_count": 10,
   "metadata": {},
   "outputs": [
    {
     "name": "stdout",
     "output_type": "stream",
     "text": [
      "0  1  1  1  \n",
      "1  0  0  0  \n",
      "1  1  0  1  \n",
      "1  0  1  0  \n"
     ]
    }
   ],
   "source": [
    "G = Graph(4)\n",
    "G.graph[0][1] = 1; G.graph[0][2] = 1; G.graph[0][3] = 1\n",
    "G.graph[1][0] = 1; G.graph[0][2] = 1;\n",
    "G.graph[2][0] = 1; G.graph[2][1] = 1; G.graph[2][3] = 1\n",
    "G.graph[3][0] = 1; G.graph[3][2] = 1\n",
    "\n",
    "\n",
    "for row in range(4):\n",
    "    for col in range(4):\n",
    "        print(G.graph[row][col], end = '  ')\n",
    "    print()"
   ]
  },
  {
   "cell_type": "code",
   "execution_count": null,
   "metadata": {},
   "outputs": [],
   "source": []
  }
 ],
 "metadata": {
  "kernelspec": {
   "display_name": "Python 3",
   "language": "python",
   "name": "python3"
  },
  "language_info": {
   "codemirror_mode": {
    "name": "ipython",
    "version": 3
   },
   "file_extension": ".py",
   "mimetype": "text/x-python",
   "name": "python",
   "nbconvert_exporter": "python",
   "pygments_lexer": "ipython3",
   "version": "3.8.5"
  }
 },
 "nbformat": 4,
 "nbformat_minor": 4
}
