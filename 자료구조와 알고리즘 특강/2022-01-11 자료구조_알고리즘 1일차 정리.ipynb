{
 "cells": [
  {
   "cell_type": "markdown",
   "metadata": {},
   "source": [
    "# 자료구조"
   ]
  },
  {
   "cell_type": "markdown",
   "metadata": {},
   "source": [
    "---"
   ]
  },
  {
   "cell_type": "markdown",
   "metadata": {},
   "source": [
    "## 자료구조의 개념"
   ]
  },
  {
   "cell_type": "markdown",
   "metadata": {},
   "source": [
    "* **자료**를 효율적으로 관리하는 방법(요리 전 재료를 다듬는)\n",
    "* 컴퓨터 프로그래밍 언어에서 효율적인 자료(데이터)의 형태"
   ]
  },
  {
   "cell_type": "markdown",
   "metadata": {},
   "source": [
    "## 자료구조의 종류\n",
    "\n",
    "1. 단순 자료구조(정수, 실수, 문자, 문자열)\n",
    "2. 선형 자료구조(리스트, 스택, 큐)\n",
    "3. 비선형 자료구조(트리, 그래프)\n",
    "4. 파일 자료구조(순차 파일, 색인 파일, 직접 파일)"
   ]
  },
  {
   "cell_type": "markdown",
   "metadata": {},
   "source": [
    "---"
   ]
  },
  {
   "cell_type": "markdown",
   "metadata": {},
   "source": [
    "# 선형 자료구조"
   ]
  },
  {
   "cell_type": "markdown",
   "metadata": {},
   "source": [
    "## 1) 선형리스트"
   ]
  },
  {
   "cell_type": "markdown",
   "metadata": {},
   "source": [
    "### 선형 리스트란?\n",
    "* 맛집이나 마트에서 줄을 서는 것 처럼 데이터를 일정한 순서로 나열한 것"
   ]
  },
  {
   "cell_type": "markdown",
   "metadata": {},
   "source": [
    "### 선형 리스트의 개념\n",
    "* 데이터를 일정한 순서로 나열한 자료구조\n",
    "* 순차 리스트(Ordered List)라고도 함\n",
    "* 선형 리스트는 입력 순서대로 저장하는 데이터에 적당"
   ]
  },
  {
   "cell_type": "markdown",
   "metadata": {},
   "source": [
    "### 선형 리스트의 예\n",
    "* 카톡으로 연락 온 친구를 배열을 이용하여 표현\n",
    "* 파이썬의 리스트를 생각하면 안된다. 배열이며 따닥따닥 붙어있다."
   ]
  },
  {
   "cell_type": "markdown",
   "metadata": {},
   "source": [
    "### 선형 리스트 구현"
   ]
  },
  {
   "cell_type": "markdown",
   "metadata": {},
   "source": [
    "#### 전역변수 선언부"
   ]
  },
  {
   "cell_type": "code",
   "execution_count": 14,
   "metadata": {},
   "outputs": [],
   "source": [
    "katok = [] # 카톡으로 연락이 많이 온 순서로 배열을 만들기 위해"
   ]
  },
  {
   "cell_type": "markdown",
   "metadata": {},
   "source": [
    "#### 함수 선언부"
   ]
  },
  {
   "cell_type": "markdown",
   "metadata": {},
   "source": [
    "1. 선형 리스트에 데이터를 추가하는 함수(마지막 위치에)"
   ]
  },
  {
   "cell_type": "code",
   "execution_count": 15,
   "metadata": {},
   "outputs": [],
   "source": [
    "def add_data(friend):\n",
    "    katok.append(None) # 빈칸 추가\n",
    "    kLen = len(katok) # 선형리스트의 길이를 구한다.\n",
    "    katok[kLen-1] = friend # 가장 마지막 위치에 친구를 추가\n",
    "    "
   ]
  },
  {
   "cell_type": "markdown",
   "metadata": {},
   "source": [
    "2. 원하는 위치에 친구를 추가하는 함수"
   ]
  },
  {
   "cell_type": "code",
   "execution_count": 16,
   "metadata": {},
   "outputs": [],
   "source": [
    "def insert_data(position, friend):\n",
    "    katok.append(None) # 빈칸 추가\n",
    "    kLen = len(katok) # 선형리스트의 길이를 구한다.\n",
    "    for i in range(kLen-1, position, -1): \n",
    "        # 배열의 마지막부터 순차적으로 지정한 위치까지 반복\n",
    "        katok[i] = katok[i-1] # 뒤쪽으로 데이터를 당겨줌\n",
    "        katok[i-1] = None # 당겨진 자리에 자리를 비워준다\n",
    "    katok[position] = friend # 그 자리에 데이터를 추가\n",
    "    \n",
    "    "
   ]
  },
  {
   "cell_type": "markdown",
   "metadata": {},
   "source": [
    "3. 원하는 위치의 데이터를 삭제하는 함수"
   ]
  },
  {
   "cell_type": "code",
   "execution_count": 17,
   "metadata": {},
   "outputs": [],
   "source": [
    "def delete_data(position):\n",
    "    katok[position] = None # 지정 위치\n",
    "    kLen = len(katok) # 리스트의 길이를 구함\n",
    "    for i in range(position+1, kLen, 1): \n",
    "        # position이 3이라면, 4부터 리스트의 끝까지 1씩 증가 반복\n",
    "        katok[i-1] = katok[i] # 지정한 자리로 뒤에있는 값을 안쪽으로 밀어줌\n",
    "        katok[i] = None # 옮겨준 뒤 빈 공간을 None으로 \n",
    "    del(katok[kLen-1]) # 빈 공간이 맨 뒤로 밀려나면 그 때 그것을 삭제"
   ]
  },
  {
   "cell_type": "markdown",
   "metadata": {},
   "source": [
    "#### 메인 코드부"
   ]
  },
  {
   "cell_type": "markdown",
   "metadata": {},
   "source": [
    "1. 소규모 데이터로 직접 자료구조를 만들 때"
   ]
  },
  {
   "cell_type": "code",
   "execution_count": 18,
   "metadata": {},
   "outputs": [
    {
     "name": "stdout",
     "output_type": "stream",
     "text": [
      "['다현', '정연', '쯔위', '미나', '지효', '모모']\n"
     ]
    }
   ],
   "source": [
    "# 선형리스트에 값들을 추가하는 함수 사용\n",
    "add_data('다현')\n",
    "add_data('정연')\n",
    "add_data('쯔위')\n",
    "add_data('사나')\n",
    "add_data('지효')\n",
    "add_data('모모')\n",
    "\n",
    "insert_data(3, '미나') # 3 위치에 미나를 추가\n",
    "\n",
    "delete_data(4) # 4위치에 있는 사나가 지워짐\n",
    "\n",
    "print(katok)"
   ]
  },
  {
   "cell_type": "markdown",
   "metadata": {},
   "source": [
    "2. 함수를 사용해 추가, 삽입, 삭제하는 프로그램 구현"
   ]
  },
  {
   "cell_type": "code",
   "execution_count": 19,
   "metadata": {},
   "outputs": [
    {
     "name": "stdout",
     "output_type": "stream",
     "text": [
      "선택하시오(1: 추가, 2: 삽입, 3: 삭제, 4: 종료) : 1\n",
      "추가할 데이터 : 동준\n",
      "['다현', '정연', '쯔위', '미나', '지효', '모모', '동준']\n",
      "선택하시오(1: 추가, 2: 삽입, 3: 삭제, 4: 종료) : 1\n",
      "추가할 데이터 : 박진영\n",
      "['다현', '정연', '쯔위', '미나', '지효', '모모', '동준', '박진영']\n",
      "선택하시오(1: 추가, 2: 삽입, 3: 삭제, 4: 종료) : 2\n",
      "삽입할 위치 : 0\n",
      "추가할 데이터 : 수지\n",
      "['수지', '다현', '정연', '쯔위', '미나', '지효', '모모', '동준', '박진영']\n",
      "선택하시오(1: 추가, 2: 삽입, 3: 삭제, 4: 종료) : 3\n",
      "삭제할 위치 : 7\n",
      "['수지', '다현', '정연', '쯔위', '미나', '지효', '모모', '박진영']\n",
      "선택하시오(1: 추가, 2: 삽입, 3: 삭제, 4: 종료) : 4\n",
      "['수지', '다현', '정연', '쯔위', '미나', '지효', '모모', '박진영']\n"
     ]
    }
   ],
   "source": [
    "if __name__ == '__main__':\n",
    "    \n",
    "    while True:\n",
    "        \n",
    "        select = int(input('선택하시오(1: 추가, 2: 삽입, 3: 삭제, 4: 종료) : '))\n",
    "        \n",
    "        if select == 1:\n",
    "            data = input('추가할 데이터 : ')\n",
    "            add_data(data)\n",
    "            print(katok)\n",
    "            \n",
    "    \n",
    "        elif select == 2:\n",
    "            pos = int(input('삽입할 위치 : '))\n",
    "            data = input('추가할 데이터 : ')\n",
    "            insert_data(pos, data)\n",
    "            print(katok)\n",
    "            \n",
    "        elif select == 3:\n",
    "            pos = int(input('삭제할 위치 : '))\n",
    "            delete_data(pos)\n",
    "            print(katok)\n",
    "            \n",
    "        elif select == 4:\n",
    "            print(katok)\n",
    "            break\n",
    "        else:\n",
    "            print('잘 못 입력하셨습니다.1~4 의 숫자를 입력하세요.')\n",
    "            continue"
   ]
  },
  {
   "cell_type": "markdown",
   "metadata": {},
   "source": [
    "---"
   ]
  },
  {
   "cell_type": "markdown",
   "metadata": {},
   "source": [
    "## 2) 단순 연결 리스트"
   ]
  },
  {
   "cell_type": "markdown",
   "metadata": {},
   "source": [
    "### 단순 연결 리스트란?\n",
    "* 방문할 맛집을 지도에 순서대로 연결한 것처럼, 떨어진 곳에 위치한 데이터를 화살표료 연결한 것"
   ]
  },
  {
   "cell_type": "markdown",
   "metadata": {},
   "source": [
    "### 단순 연결 리스트의 개념\n",
    "* 노드들이 물리적으로 떨어진 곳에 위치\n",
    "* 각 노드의 번지도 순차적이지 않음\n",
    "* 화살표로 표시된 연결(링크, Link)을 따라가면 선형 리스트의 순서와 같음"
   ]
  },
  {
   "cell_type": "markdown",
   "metadata": {},
   "source": [
    "### 단순 연결 리스트의 원리\n",
    "* 노드구조\n",
    "    * 단순 연결 리스트는 다음 데이터를 가리키는 링크가 더 필요\n",
    "    * 노드(Node)는 데이터와 링크로 구성된 항목\n",
    "\n",
    "* 데이터를 삽입/삭제할 때\n",
    "    * 선형 리스트는 많은 작업이 필요(오버헤드 발생)\n",
    "    * 단순 연결 리스트는 해당 노드의 앞뒤 링크만 수정하면 되므로 오버헤드가 거의 발생하지 않음\n",
    "    \n",
    "* **head** = 가장 첫 노드\n",
    "* **pre** = 현재 작업하고 있는 노드의 바로 직전 노드\n",
    "* **current** = 현재 작업하고 있는 노드"
   ]
  },
  {
   "cell_type": "markdown",
   "metadata": {},
   "source": [
    "### 단순 연결 리스트 구현"
   ]
  },
  {
   "cell_type": "markdown",
   "metadata": {},
   "source": [
    "#### 전역변수 선언부"
   ]
  },
  {
   "cell_type": "markdown",
   "metadata": {},
   "source": [
    "1. 노드를 저장할 메모리(연결리스트) 생성\n",
    "2. 연산에 필요한 각 노드 None으로 지정\n",
    "3. 데이터 배열 생성(**데이터는 수백, 수천, 수만가지일 수도 있다.**)"
   ]
  },
  {
   "cell_type": "code",
   "execution_count": 39,
   "metadata": {},
   "outputs": [],
   "source": [
    "memory = []\n",
    "head, current, pre = None, None, None\n",
    "dataArray = ['다현','정연','쯔위','사나','지효','동준','JYP']\n",
    "# dataArray는 현재 정해진 요소 뿐만이 아니라 수백, 수천, 수만가지일 수도 있다."
   ]
  },
  {
   "cell_type": "markdown",
   "metadata": {},
   "source": [
    "#### 함수 선언부"
   ]
  },
  {
   "cell_type": "markdown",
   "metadata": {},
   "source": [
    "1. 노드를 만드는 함수"
   ]
  },
  {
   "cell_type": "code",
   "execution_count": 40,
   "metadata": {},
   "outputs": [],
   "source": [
    "class Node():\n",
    "    def __init__(self): # 초기화\n",
    "        self.data = None # 노드의 데이터 값\n",
    "        self.link = None # 노드를 연결해주는 화살표(링크)"
   ]
  },
  {
   "cell_type": "markdown",
   "metadata": {},
   "source": [
    "2. 노드들을 출력해주는 함수(단순 연결 리스트 출력)"
   ]
  },
  {
   "cell_type": "code",
   "execution_count": 41,
   "metadata": {},
   "outputs": [],
   "source": [
    "def printNodes(start):\n",
    "    current = start # 지정한 노드를 현재 작업 노드로 설정\n",
    "    print(current.data, end = ' ') # 해당 데이터 값을 출력\n",
    "    while current.link != None: # 노드의 링크가 None(끝 값)이 아니면\n",
    "        current = current.link # 노드의 링크노드가 현재노드로 변환\n",
    "        print(current.data, end= ' ') # 또 다시 해당 데이터값 출력\n",
    "    print()"
   ]
  },
  {
   "cell_type": "markdown",
   "metadata": {},
   "source": [
    "3. 삽입하는 함수"
   ]
  },
  {
   "cell_type": "code",
   "execution_count": 42,
   "metadata": {},
   "outputs": [],
   "source": [
    "def insertNode(findData, insertData): # 삽입하는 함수\n",
    "    global memory, head, current, pre # 전역변수를 불러옴\n",
    "    \n",
    "    # 첫 노드 앞에 삽입(헤드를 이용)\n",
    "    if findData == head.data: # 찾는 함수가 헤드(연결리스트의 첫)\n",
    "        node = Node() # 새 노드를 생성\n",
    "        node.data = insertData # 적어준 값을 노드의 값으로\n",
    "        node.link = head # 기존의 헤드가 생성한 노드의 링크로\n",
    "        head = node # 생성한 노드가 헤드 노드로\n",
    "        return\n",
    "    \n",
    "    # 두번째 노드 이후 앞에 삽입\n",
    "    current = head # 찾는 값이 head가 아니므로 현재 작업 노드를 head로\n",
    "    while current.link != None: # 끝 값이 나올 때 까지\n",
    "        pre = current # 현재 작업 노드가 이전 작업 노드로\n",
    "        current = current.link # 링크 노드가 현재 작업 노드로\n",
    "        if current.data == findData: # 현재 노드의 값이 찾는 값이라면\n",
    "            node = Node() # 노드를 생성하고\n",
    "            node.data = insertData # 입력한 값을 데이터로 지정\n",
    "            node.link = current # 현재 작업 노드를 링크노드로\n",
    "            pre.link = node # 이전 작업 노드의 링크노드를 생성한 노드로 지정\n",
    "            return\n",
    "    \n",
    "    # 마지막 노드 삽입\n",
    "    node = Node()\n",
    "    node.data = insertData\n",
    "    current.link = node\n",
    "    return\n"
   ]
  },
  {
   "cell_type": "markdown",
   "metadata": {},
   "source": [
    "4. 삭제하는 함수"
   ]
  },
  {
   "cell_type": "code",
   "execution_count": 43,
   "metadata": {},
   "outputs": [],
   "source": [
    "def deleteNode(deleteData): # 삭제하는 함수\n",
    "    global memory, head, current, pre\n",
    "    \n",
    "    # 첫 노드를 삭제할 때\n",
    "    if deleteData == head.data: # 삭제할 값이 첫 노드의 데이터라면\n",
    "        current = head # 첫 노드를 현재 작업노드로\n",
    "        head = head.link # 첫 노드의 링크노드를 첫 노드로\n",
    "        del(current) # 현재 작업 노드 삭제\n",
    "        return\n",
    "    \n",
    "    # 두번째 이후를 삭제\n",
    "    current = head\n",
    "    while current.link != None:\n",
    "        pre = current\n",
    "        current = current.link\n",
    "        if current.data == deleteData:\n",
    "            pre.link = current.link\n",
    "            del(current)\n",
    "            return\n"
   ]
  },
  {
   "cell_type": "markdown",
   "metadata": {},
   "source": [
    "5. 단순히 데이터를 찾는 함수"
   ]
  },
  {
   "cell_type": "code",
   "execution_count": 44,
   "metadata": {},
   "outputs": [],
   "source": [
    "def findNode(findData): # 찾는 함수\n",
    "    global memory, head, current, pre\n",
    "    current = head\n",
    "    if current.data == findData:\n",
    "        return current # 노드를 통째로 돌려줌\n",
    "    \n",
    "    while current.link != None:\n",
    "        current = current.link\n",
    "        if current.data == findData:\n",
    "            return current\n",
    "    \n",
    "    return Node()"
   ]
  },
  {
   "cell_type": "markdown",
   "metadata": {},
   "source": [
    "#### 메인"
   ]
  },
  {
   "cell_type": "code",
   "execution_count": 45,
   "metadata": {},
   "outputs": [],
   "source": [
    "node = Node()\n",
    "node.data = dataArray[0]\n",
    "head = node \n",
    "# '다현'이라는 데이터를 가진 첫번째 노드를 head로 지정\n",
    "memory.append(node)"
   ]
  },
  {
   "cell_type": "code",
   "execution_count": 46,
   "metadata": {},
   "outputs": [],
   "source": [
    "for data in dataArray[1:] : # 0번은 헤드로이미 지정했기 때문에\n",
    "    pre = node\n",
    "    node = Node()\n",
    "    node.data = data\n",
    "    pre.link = node\n",
    "    memory.append(node)"
   ]
  },
  {
   "cell_type": "code",
   "execution_count": 47,
   "metadata": {},
   "outputs": [
    {
     "name": "stdout",
     "output_type": "stream",
     "text": [
      "다현 정연 쯔위 사나 지효 동준 JYP \n"
     ]
    }
   ],
   "source": [
    "printNodes(head)"
   ]
  },
  {
   "cell_type": "code",
   "execution_count": 48,
   "metadata": {},
   "outputs": [
    {
     "name": "stdout",
     "output_type": "stream",
     "text": [
      "화사 다현 정연 쯔위 사나 지효 동준 JYP \n"
     ]
    }
   ],
   "source": [
    "insertNode('다현', '화사') # 헤드 노드인 다현 앞에 화사가 추가되어 화사가 헤드가 된다.\n",
    "printNodes(head)"
   ]
  },
  {
   "cell_type": "code",
   "execution_count": 49,
   "metadata": {},
   "outputs": [
    {
     "name": "stdout",
     "output_type": "stream",
     "text": [
      "화사 다현 정연 쯔위 솔라 사나 지효 동준 JYP \n"
     ]
    }
   ],
   "source": [
    "insertNode('사나', '솔라') # 헤드 노드가 아닌 사나 앞에 솔라가 추가\n",
    "printNodes(head)"
   ]
  },
  {
   "cell_type": "code",
   "execution_count": 50,
   "metadata": {},
   "outputs": [
    {
     "name": "stdout",
     "output_type": "stream",
     "text": [
      "화사 다현 정연 쯔위 솔라 사나 지효 동준 JYP 문별 \n"
     ]
    }
   ],
   "source": [
    "insertNode('재남', '문별') # 재남이 존재하지 않아서 문별이 마지막에 추가\n",
    "printNodes(head)"
   ]
  },
  {
   "cell_type": "code",
   "execution_count": 51,
   "metadata": {},
   "outputs": [
    {
     "name": "stdout",
     "output_type": "stream",
     "text": [
      "다현 정연 쯔위 솔라 사나 지효 동준 JYP 문별 \n"
     ]
    }
   ],
   "source": [
    "deleteNode('화사')\n",
    "printNodes(head) \n",
    "# head였던 화사가 잘 사라짐, 그리고 다현이 head 노드로 변경"
   ]
  },
  {
   "cell_type": "code",
   "execution_count": 52,
   "metadata": {},
   "outputs": [
    {
     "name": "stdout",
     "output_type": "stream",
     "text": [
      "다현 정연 솔라 사나 지효 동준 JYP 문별 \n"
     ]
    }
   ],
   "source": [
    "deleteNode('쯔위')\n",
    "printNodes(head) # 쯔위가 잘 지워짐"
   ]
  },
  {
   "cell_type": "code",
   "execution_count": 53,
   "metadata": {},
   "outputs": [
    {
     "name": "stdout",
     "output_type": "stream",
     "text": [
      "다현 정연 솔라 사나 지효 동준 JYP 문별 \n"
     ]
    }
   ],
   "source": [
    "deleteNode('재남')\n",
    "printNodes(head) # 재남이 원래 없기때문에 변화가 없음."
   ]
  },
  {
   "cell_type": "code",
   "execution_count": 54,
   "metadata": {},
   "outputs": [
    {
     "name": "stdout",
     "output_type": "stream",
     "text": [
      "솔라\n"
     ]
    }
   ],
   "source": [
    "fNode = findNode('솔라')\n",
    "print(fNode.data)"
   ]
  },
  {
   "cell_type": "code",
   "execution_count": 55,
   "metadata": {},
   "outputs": [
    {
     "name": "stdout",
     "output_type": "stream",
     "text": [
      "None\n"
     ]
    }
   ],
   "source": [
    "fNode = findNode('쯔위') # 쯔위가 아까 삭제되어 없기때문에 \n",
    "print(fNode.data) # None을 출력"
   ]
  },
  {
   "cell_type": "markdown",
   "metadata": {},
   "source": [
    "---"
   ]
  },
  {
   "cell_type": "markdown",
   "metadata": {},
   "source": [
    "## 3) 원형 연결 리스트"
   ]
  },
  {
   "cell_type": "markdown",
   "metadata": {},
   "source": [
    "### 원형 연결 리스트란?\n",
    "* 시작 위치와 다음 위치가 계속 이어진 후 마지막에 다시 시작으로 돌아오는 형태(ex: 전국 일주)"
   ]
  },
  {
   "cell_type": "markdown",
   "metadata": {},
   "source": [
    "### 원형 연결 리스트의 개념\n",
    "* 단순 연결 리스트와 구조, 구현 코드가 상당히 유사\n",
    "* 리스트 형태가 원(Circle) 형태로 구성(계속 회전하면서 사용 가능)\n",
    "* 오버헤드가 발생하지 않음"
   ]
  },
  {
   "cell_type": "markdown",
   "metadata": {},
   "source": [
    "### 요약\n",
    ": 단순 연결 리스트에서 맨 끝 노드의 링크가 **`head`**인 경우로 생각하면 된다."
   ]
  },
  {
   "cell_type": "markdown",
   "metadata": {},
   "source": [
    "---"
   ]
  },
  {
   "cell_type": "markdown",
   "metadata": {},
   "source": [
    "## 4) 스택(Stack)"
   ]
  },
  {
   "cell_type": "markdown",
   "metadata": {},
   "source": [
    "### 스택 구조란?\n",
    "* 아이스크림 콘에 여러가지 맛을 쌓을 때, 가장 먼저 넣은 맛을 가장 나중에 먹을 수 있는 구조"
   ]
  },
  {
   "cell_type": "markdown",
   "metadata": {},
   "source": [
    "### 스택 개념\n",
    "* 스택 자료구조는 한쪽 끝이 막힌 형태\n",
    "* 입구가 하나이기 때문에 먼저 들어간 것이 가장 나중에 나오는 구조\n",
    "* **선입후출(FILO), 후입선출(LIFO)**"
   ]
  },
  {
   "cell_type": "markdown",
   "metadata": {},
   "source": [
    "### 스택 원리\n",
    "* 스택 기본 구조\n",
    "    * 스택에 데이터를 삽입하는 작동 : **push**\n",
    "    * 스택에 데이터를 추출하는 작동 : **pop**\n",
    "    * 스택에 들어 있는 가장 위의 데이터 : **top**\n"
   ]
  },
  {
   "cell_type": "markdown",
   "metadata": {},
   "source": [
    "### 스택 구현"
   ]
  },
  {
   "cell_type": "markdown",
   "metadata": {},
   "source": [
    "#### 전역 변수 선언부"
   ]
  },
  {
   "cell_type": "code",
   "execution_count": 59,
   "metadata": {},
   "outputs": [],
   "source": [
    "SIZE = 5\n",
    "stack = [None for _ in range(SIZE)] # 스택의 크기를 SIZE로 지정\n",
    "top = -1 # 스택이 비어있는 상태(바닥 상태라 생각하자)"
   ]
  },
  {
   "cell_type": "markdown",
   "metadata": {},
   "source": [
    "#### 함수 선언부"
   ]
  },
  {
   "cell_type": "markdown",
   "metadata": {},
   "source": [
    "1. 스택이 꽉 찼는지 확인하는 함수"
   ]
  },
  {
   "cell_type": "code",
   "execution_count": 60,
   "metadata": {},
   "outputs": [],
   "source": [
    "def isStackFull():\n",
    "    global SIZE, stack, top # 전역변수를 불러온다.\n",
    "    if (top >= SIZE-1): # 내용물의 머리가 통과 같거나 크다면\n",
    "        return True # 스택은 꽉찬거다(진실)\n",
    "    else:\n",
    "        return False # 아니라면 빈 공간이 있다.(거짓)"
   ]
  },
  {
   "cell_type": "markdown",
   "metadata": {},
   "source": [
    "2. 스택이 비어있는지 확인하는 함수"
   ]
  },
  {
   "cell_type": "code",
   "execution_count": 61,
   "metadata": {},
   "outputs": [],
   "source": [
    "def isStackEmpty(): # 스택이 비었는지 확인하는 함수\n",
    "    global SIZE, stack, top # 전역 변수 불러옴\n",
    "    if (top <= -1): # 만약, 내용물의 머리가 바닥과 같거나 작다면\n",
    "        return True # 스택은 텅텅 비어있다.\n",
    "    else:\n",
    "        return False\n"
   ]
  },
  {
   "cell_type": "markdown",
   "metadata": {},
   "source": [
    "3. 스택에 데이터(내용물)을 넣어주는 함수"
   ]
  },
  {
   "cell_type": "code",
   "execution_count": 64,
   "metadata": {},
   "outputs": [],
   "source": [
    "def push(data): # 스택에 데이터를 넣어주는 함수\n",
    "    global SIZE, stack, top # 전역 변수 호출\n",
    "    if isStackFull(): # 만약 스택이 꽉찼다면\n",
    "        print('스택이 가득찼습니다.')\n",
    "        return # 아무일도 없다.\n",
    "    top += 1 # 꽉차지 않았다면 내용물의 머리의 높이가 1 높아짐\n",
    "    stack[top] = data # 해당 위치에 데이터 값을 넣어줌"
   ]
  },
  {
   "cell_type": "markdown",
   "metadata": {},
   "source": [
    "4. 스택에서 데이터 꺼내기(추출하기)"
   ]
  },
  {
   "cell_type": "code",
   "execution_count": 66,
   "metadata": {},
   "outputs": [],
   "source": [
    "def pop():\n",
    "    global SIZE, stack, top\n",
    "    if isStackEmpty(): # 스택이 비었다면,\n",
    "        print('스택이 텅텅 비었습니다.')\n",
    "        return # 아무일도 없다.\n",
    "    data = stack[top] # 맨 위의 내용물을 추출\n",
    "    stack[top] = None # 추출한 자리 비우기\n",
    "    top -= 1 # 내용물의 머리의 높이가 1 낮아짐\n",
    "    return data # 추출 데이터 반환"
   ]
  },
  {
   "cell_type": "markdown",
   "metadata": {},
   "source": [
    "5. 가장 위의 내용물이 무엇인지(추출 예정인 데이터)를 알아보는 함수"
   ]
  },
  {
   "cell_type": "code",
   "execution_count": 65,
   "metadata": {},
   "outputs": [],
   "source": [
    "def peek(): # 맨 위에 뭐있는 확인하는 함수\n",
    "    global SIZE, stack, top\n",
    "    if isStackEmpty():\n",
    "        print('스택이 텅텅 비었어유')\n",
    "        return\n",
    "    return stack[top]"
   ]
  },
  {
   "cell_type": "markdown",
   "metadata": {},
   "source": [
    "#### 메인"
   ]
  },
  {
   "cell_type": "markdown",
   "metadata": {},
   "source": [
    "##### 1) push"
   ]
  },
  {
   "cell_type": "code",
   "execution_count": 67,
   "metadata": {},
   "outputs": [
    {
     "name": "stdout",
     "output_type": "stream",
     "text": [
      "['커피1', '커피2', '커피3', '커피4', '커피5']\n",
      "스택이 가득찼습니다.\n"
     ]
    }
   ],
   "source": [
    "push('커피1')\n",
    "push('커피2')\n",
    "push('커피3')\n",
    "push('커피4')\n",
    "push('커피5')\n",
    "print(stack)\n",
    "push('커피6') # SIZE가 5이기 때문에 커피 5까지만 들어감."
   ]
  },
  {
   "cell_type": "markdown",
   "metadata": {},
   "source": [
    "##### 2) pop"
   ]
  },
  {
   "cell_type": "code",
   "execution_count": 68,
   "metadata": {},
   "outputs": [
    {
     "name": "stdout",
     "output_type": "stream",
     "text": [
      "팝 ---> 커피5\n",
      "팝 ---> 커피4\n",
      "팝 ---> 커피3\n",
      "['커피1', '커피2', None, None, None]\n"
     ]
    }
   ],
   "source": [
    "returnData = pop()\n",
    "print('팝 --->', returnData)\n",
    "returnData = pop()\n",
    "print('팝 --->', returnData)\n",
    "returnData = pop()\n",
    "print('팝 --->', returnData)\n",
    "\n",
    "print(stack)\n"
   ]
  },
  {
   "cell_type": "markdown",
   "metadata": {},
   "source": [
    "##### 3) peek"
   ]
  },
  {
   "cell_type": "code",
   "execution_count": 69,
   "metadata": {},
   "outputs": [
    {
     "name": "stdout",
     "output_type": "stream",
     "text": [
      "다음에 빠질 것은? 커피2\n"
     ]
    }
   ],
   "source": [
    "print('다음에 빠질 것은?',peek())"
   ]
  },
  {
   "cell_type": "markdown",
   "metadata": {},
   "source": [
    "---"
   ]
  },
  {
   "cell_type": "markdown",
   "metadata": {},
   "source": [
    "## 5) 큐(Queue)"
   ]
  },
  {
   "cell_type": "markdown",
   "metadata": {},
   "source": [
    "### 큐란?\n",
    "* 기차가 터널에 들어가는 순서대로 터널을 빠져나오고, ATM기에서 줄을 선 순서대로 예금을 인출하는 것처럼 큐는 먼저 들어간 것이 먼저 나오는 구조를 의미"
   ]
  },
  {
   "cell_type": "markdown",
   "metadata": {},
   "source": [
    "### 큐의 개념\n",
    "* **`큐(Queue)`** 자료 구조는 입구와 출구가 따로 있는 원통 형태\n",
    "* 스택(Stack)은 **선입후출(FILO)**, 큐는 **선입선출(FIFO)**"
   ]
  },
  {
   "cell_type": "markdown",
   "metadata": {},
   "source": [
    "### 큐의 원리\n",
    "* 구조와 용어\n",
    "    * 큐에 데이터를 삽입하는 작동 : enQueue(인큐)\n",
    "    * 데이터를 추출하는 작동 : deQueue(데큐)\n",
    "    * 저장된 데이터 중 첫 번째 데이터 : front(머리)\n",
    "    * 저장된 데이터 중 마지막 데이터 : rear(꼬리)\n",
    "    \n",
    "* 꼬리로 들어가서 머리로 나옴\n",
    "* front와 rear의 값이 같으면 빈 큐"
   ]
  },
  {
   "cell_type": "markdown",
   "metadata": {},
   "source": [
    "### 큐 생성\n",
    "* 배열 크기를 지정한 후 해당 크기의 빈 큐 생성"
   ]
  },
  {
   "cell_type": "markdown",
   "metadata": {},
   "source": [
    "### 큐 구현"
   ]
  },
  {
   "cell_type": "markdown",
   "metadata": {},
   "source": [
    "#### 전역 변수 선언부\n",
    ": 스택과 비슷함. 다만 top이 아닌 **front**와 **rear**가 있음"
   ]
  },
  {
   "cell_type": "code",
   "execution_count": 78,
   "metadata": {},
   "outputs": [],
   "source": [
    "SIZE = 5\n",
    "queue = [None for _ in range(SIZE)] # list_comprehension으로 queue  생성\n",
    "front = rear = -1"
   ]
  },
  {
   "cell_type": "markdown",
   "metadata": {},
   "source": [
    "#### 함수 선언부"
   ]
  },
  {
   "cell_type": "markdown",
   "metadata": {},
   "source": [
    "1. 큐가 꽉 찼는지 확인하는 함수"
   ]
  },
  {
   "cell_type": "code",
   "execution_count": 79,
   "metadata": {},
   "outputs": [],
   "source": [
    "def isQueueFull(): # 큐가 꽉찼는지 확인하는 함수\n",
    "    global SIZE, queue, front, rear\n",
    "    if (rear == SIZE -1): # 꼬리(입구쪽)가 큐의 크기와 같다면\n",
    "        return True\n",
    "    else:\n",
    "        return False"
   ]
  },
  {
   "cell_type": "markdown",
   "metadata": {},
   "source": [
    "2. 큐가 비었는지 확인하는 함수"
   ]
  },
  {
   "cell_type": "code",
   "execution_count": 80,
   "metadata": {},
   "outputs": [],
   "source": [
    "def isQueueEmpty(): # 큐가 비었는지 확인하는 함수\n",
    "    global SIZE, queue, front, rear\n",
    "    if (rear == front):\n",
    "        return True\n",
    "    else:\n",
    "        return False"
   ]
  },
  {
   "cell_type": "markdown",
   "metadata": {},
   "source": [
    "3. 큐에 데이터를 넣는 함수"
   ]
  },
  {
   "cell_type": "code",
   "execution_count": 81,
   "metadata": {},
   "outputs": [],
   "source": [
    "def enQueue(data): # 큐에 데이터를 넣는 함수\n",
    "    global SIZE, queue, front, rear\n",
    "    if (isQueueFull()):\n",
    "        print('큐가 꽉 찼습니다.')\n",
    "        return\n",
    "    rear += 1 # 꼬리가 입구쪽으로 증가한다.\n",
    "    queue[rear] = data"
   ]
  },
  {
   "cell_type": "markdown",
   "metadata": {},
   "source": [
    "4. 큐에서 데이터를 빼는 함수"
   ]
  },
  {
   "cell_type": "code",
   "execution_count": 82,
   "metadata": {},
   "outputs": [],
   "source": [
    "def deQueue(): # 큐에서 데이터를 빼는 함수\n",
    "    global SIZE, queue, front, rear\n",
    "    if isQueueEmpty():\n",
    "        print('큐가 비었습니다.')\n",
    "        return None\n",
    "    front += 1 # 머리가 출구에서 입구쪽으로 증가\n",
    "    data = queue[front]\n",
    "    queue[front] = None\n",
    "    return data"
   ]
  },
  {
   "cell_type": "markdown",
   "metadata": {},
   "source": [
    "5. 다음 나올 데이터를 알려주는 함수"
   ]
  },
  {
   "cell_type": "code",
   "execution_count": 83,
   "metadata": {},
   "outputs": [],
   "source": [
    "def peek(): # 다음 나올 데이터를 알려주는 함수\n",
    "    global SIZE, queue, front, rear\n",
    "    if isQueueEmpty():\n",
    "        print('큐가 비었습니다.')\n",
    "        return None\n",
    "    return queue[front+1]"
   ]
  },
  {
   "cell_type": "markdown",
   "metadata": {},
   "source": [
    "#### 메인"
   ]
  },
  {
   "cell_type": "markdown",
   "metadata": {},
   "source": [
    "##### enQueue(삽입)"
   ]
  },
  {
   "cell_type": "code",
   "execution_count": 84,
   "metadata": {},
   "outputs": [
    {
     "name": "stdout",
     "output_type": "stream",
     "text": [
      "출구<----- ['화사', '솔라', '문별', '선미', '동준'] <-----입구\n",
      "큐가 꽉 찼습니다.\n",
      "출구<----- ['화사', '솔라', '문별', '선미', '동준'] <-----입구\n"
     ]
    }
   ],
   "source": [
    "enQueue('화사')\n",
    "enQueue('솔라')\n",
    "enQueue('문별')\n",
    "enQueue('선미')\n",
    "enQueue('동준')\n",
    "print('출구<-----',queue,'<-----입구')\n",
    "enQueue('아이유') # 큐의 SIZE가 5이므로 더이상 들어갈 자리가 없다.\n",
    "print('출구<-----',queue,'<-----입구')"
   ]
  },
  {
   "cell_type": "markdown",
   "metadata": {},
   "source": [
    "##### deQueue(추출)"
   ]
  },
  {
   "cell_type": "code",
   "execution_count": 85,
   "metadata": {},
   "outputs": [
    {
     "name": "stdout",
     "output_type": "stream",
     "text": [
      "밥 손님 :  화사\n",
      "밥 손님 :  솔라\n",
      "밥 손님 :  문별\n",
      "출구<----- [None, None, None, '선미', '동준'] <-----입구\n",
      "밥 손님 :  선미\n",
      "다음 손님.. 준비  동준\n",
      "밥 손님 :  동준\n",
      "출구<----- [None, None, None, None, None] <-----입구\n"
     ]
    }
   ],
   "source": [
    "print('밥 손님 : ', deQueue())\n",
    "print('밥 손님 : ', deQueue())\n",
    "print('밥 손님 : ', deQueue())\n",
    "print('출구<-----',queue,'<-----입구')\n",
    "print('밥 손님 : ', deQueue())\n",
    "print('다음 손님.. 준비 ', peek())\n",
    "print('밥 손님 : ', deQueue())\n",
    "print('출구<-----',queue,'<-----입구')\n"
   ]
  }
 ],
 "metadata": {
  "kernelspec": {
   "display_name": "Python 3",
   "language": "python",
   "name": "python3"
  },
  "language_info": {
   "codemirror_mode": {
    "name": "ipython",
    "version": 3
   },
   "file_extension": ".py",
   "mimetype": "text/x-python",
   "name": "python",
   "nbconvert_exporter": "python",
   "pygments_lexer": "ipython3",
   "version": "3.8.5"
  }
 },
 "nbformat": 4,
 "nbformat_minor": 4
}
