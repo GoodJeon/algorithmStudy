{
 "cells": [
  {
   "cell_type": "markdown",
   "metadata": {},
   "source": [
    "### 함수"
   ]
  },
  {
   "cell_type": "code",
   "execution_count": 18,
   "metadata": {},
   "outputs": [],
   "source": [
    "class Node():\n",
    "    def __init__(self):\n",
    "        self.data = None\n",
    "        self.link = None\n",
    "\n",
    "def printNodes(start):\n",
    "    current = start\n",
    "    print(current.data, end = ' ')\n",
    "    while current.link != None:\n",
    "        current = current.link\n",
    "        print(current.data, end= ' ')\n",
    "    print()\n",
    "    \n",
    "def insertNode(findData, insertData): # 삽입하는 함수\n",
    "    global memory, head, current, pre\n",
    "    \n",
    "    # 첫 노드 앞에 삽입(헤드를 이용)\n",
    "    if findData == head.data:\n",
    "        node = Node()\n",
    "        node.data = insertData\n",
    "        node.link = head\n",
    "        head = node\n",
    "        return\n",
    "    \n",
    "    # 두번째 노드 이후 앞에 삽입\n",
    "    current = head\n",
    "    while current.link != None:\n",
    "        pre = current\n",
    "        current = current.link\n",
    "        if current.data == findData:\n",
    "            node = Node()\n",
    "            node.data = insertData\n",
    "            node.link = current\n",
    "            pre.link = node\n",
    "            return\n",
    "    \n",
    "    # 마지막 노드 삽입\n",
    "    node = Node()\n",
    "    node.data = insertData\n",
    "    current.link = node\n",
    "    return\n",
    "\n",
    "\n",
    "\n",
    "def deleteNode(deleteData): # 삭제하는 함수\n",
    "    global memory, head, current, pre\n",
    "    \n",
    "    # 첫 노드를 삭제할 때\n",
    "    if deleteData == head.data:\n",
    "        current = head\n",
    "        head = head.link\n",
    "        del(current)\n",
    "        return\n",
    "    \n",
    "    # 두번째 이후를 삭제\n",
    "    current = head\n",
    "    while current.link != None:\n",
    "        pre = current\n",
    "        current = current.link\n",
    "        if current.data == deleteData:\n",
    "            pre.link = current.link\n",
    "            del(current)\n",
    "            return\n",
    "\n",
    "        \n",
    "def findNode(findData): # 찾는 함수\n",
    "    global memory, head, current, pre\n",
    "    current = head\n",
    "    if current.data == findData:\n",
    "        return current # 노드를 통째로 돌려줌\n",
    "    \n",
    "    while current.link != None:\n",
    "        current = current.link\n",
    "        if current.data == findData:\n",
    "            return current\n",
    "    \n",
    "    return Node()\n",
    "    \n",
    "        "
   ]
  },
  {
   "cell_type": "markdown",
   "metadata": {},
   "source": [
    "### 전역"
   ]
  },
  {
   "cell_type": "code",
   "execution_count": 2,
   "metadata": {},
   "outputs": [],
   "source": [
    "memory = []\n",
    "head, current, pre = None, None, None\n",
    "dataArray = ['다현','정연','쯔위','사나','지효','동준','JYP']\n",
    "# dataArray는 현재 정해진 요소 뿐만이 아니라 수백, 수천, 수만가지일 수도 있다."
   ]
  },
  {
   "cell_type": "markdown",
   "metadata": {},
   "source": [
    "### 메인"
   ]
  },
  {
   "cell_type": "code",
   "execution_count": 3,
   "metadata": {},
   "outputs": [],
   "source": [
    "node = Node()\n",
    "node.data = dataArray[0]\n",
    "head = node # 첫번째 노드를 head로 지정\n",
    "memory.append(node)"
   ]
  },
  {
   "cell_type": "code",
   "execution_count": 4,
   "metadata": {},
   "outputs": [],
   "source": [
    "for data in dataArray[1:] : # 0번은 헤드로이미 지정했기 때문에\n",
    "    pre = node\n",
    "    node = Node()\n",
    "    node.data = data\n",
    "    pre.link = node\n",
    "    memory.append(node)"
   ]
  },
  {
   "cell_type": "code",
   "execution_count": 5,
   "metadata": {},
   "outputs": [
    {
     "name": "stdout",
     "output_type": "stream",
     "text": [
      "다현 정연 쯔위 사나 지효 동준 JYP \n"
     ]
    }
   ],
   "source": [
    "printNodes(head)"
   ]
  },
  {
   "cell_type": "code",
   "execution_count": 6,
   "metadata": {},
   "outputs": [],
   "source": [
    "insertNode('다현', '화사') # 헤드 노드인 다현 앞에 화사가 추가되어 화사가 헤드가 된다."
   ]
  },
  {
   "cell_type": "code",
   "execution_count": 7,
   "metadata": {},
   "outputs": [
    {
     "name": "stdout",
     "output_type": "stream",
     "text": [
      "화사 다현 정연 쯔위 사나 지효 동준 JYP \n"
     ]
    }
   ],
   "source": [
    "printNodes(head)"
   ]
  },
  {
   "cell_type": "code",
   "execution_count": 8,
   "metadata": {},
   "outputs": [],
   "source": [
    "insertNode('사나', '솔라') # 헤드 노드가 아닌 사나 앞에 솔라가 추가"
   ]
  },
  {
   "cell_type": "code",
   "execution_count": 9,
   "metadata": {},
   "outputs": [
    {
     "name": "stdout",
     "output_type": "stream",
     "text": [
      "화사 다현 정연 쯔위 솔라 사나 지효 동준 JYP \n"
     ]
    }
   ],
   "source": [
    "printNodes(head)"
   ]
  },
  {
   "cell_type": "code",
   "execution_count": 10,
   "metadata": {},
   "outputs": [],
   "source": [
    "insertNode('재남', '문별') # 재남이 존재하지 않아서 문별이 마지막에 추가"
   ]
  },
  {
   "cell_type": "code",
   "execution_count": 11,
   "metadata": {},
   "outputs": [
    {
     "name": "stdout",
     "output_type": "stream",
     "text": [
      "화사 다현 정연 쯔위 솔라 사나 지효 동준 JYP 문별 \n"
     ]
    }
   ],
   "source": [
    "printNodes(head)"
   ]
  },
  {
   "cell_type": "code",
   "execution_count": 12,
   "metadata": {},
   "outputs": [],
   "source": [
    "deleteNode('화사')"
   ]
  },
  {
   "cell_type": "code",
   "execution_count": 13,
   "metadata": {},
   "outputs": [
    {
     "name": "stdout",
     "output_type": "stream",
     "text": [
      "다현 정연 쯔위 솔라 사나 지효 동준 JYP 문별 \n"
     ]
    }
   ],
   "source": [
    "printNodes(head) # head였던 화사가 잘 사라짐"
   ]
  },
  {
   "cell_type": "code",
   "execution_count": 15,
   "metadata": {},
   "outputs": [
    {
     "name": "stdout",
     "output_type": "stream",
     "text": [
      "다현 정연 솔라 사나 지효 동준 JYP 문별 \n"
     ]
    }
   ],
   "source": [
    "deleteNode('쯔위')\n",
    "printNodes(head) # 쯔위가 잘 지워짐"
   ]
  },
  {
   "cell_type": "code",
   "execution_count": 16,
   "metadata": {},
   "outputs": [
    {
     "name": "stdout",
     "output_type": "stream",
     "text": [
      "다현 정연 솔라 사나 지효 동준 JYP 문별 \n"
     ]
    }
   ],
   "source": [
    "deleteNode('재남')\n",
    "printNodes(head) # 재남이 원래 없기때문에 변화가 없음."
   ]
  },
  {
   "cell_type": "code",
   "execution_count": 21,
   "metadata": {},
   "outputs": [
    {
     "name": "stdout",
     "output_type": "stream",
     "text": [
      "솔라\n"
     ]
    }
   ],
   "source": [
    "fNode = findNode('솔라')\n",
    "print(fNode.data)"
   ]
  },
  {
   "cell_type": "code",
   "execution_count": 22,
   "metadata": {},
   "outputs": [
    {
     "name": "stdout",
     "output_type": "stream",
     "text": [
      "None\n"
     ]
    }
   ],
   "source": [
    "fNode = findNode('쯔위') # 쯔위가 아까 삭제되어 없기때문에 \n",
    "print(fNode.data) # None을 출력"
   ]
  }
 ],
 "metadata": {
  "kernelspec": {
   "display_name": "Python 3",
   "language": "python",
   "name": "python3"
  },
  "language_info": {
   "codemirror_mode": {
    "name": "ipython",
    "version": 3
   },
   "file_extension": ".py",
   "mimetype": "text/x-python",
   "name": "python",
   "nbconvert_exporter": "python",
   "pygments_lexer": "ipython3",
   "version": "3.8.5"
  }
 },
 "nbformat": 4,
 "nbformat_minor": 4
}
