{
 "cells": [
  {
   "cell_type": "markdown",
   "metadata": {},
   "source": [
    "# 선형 자료구조(1일차에 이어서)"
   ]
  },
  {
   "cell_type": "markdown",
   "metadata": {},
   "source": [
    "## 5) 큐(Queue)"
   ]
  },
  {
   "cell_type": "markdown",
   "metadata": {},
   "source": [
    "### 큐 구현(개선)"
   ]
  },
  {
   "cell_type": "markdown",
   "metadata": {},
   "source": [
    "#### 전역"
   ]
  },
  {
   "cell_type": "code",
   "execution_count": 1,
   "metadata": {},
   "outputs": [],
   "source": [
    "SIZE = 5\n",
    "queue = [None for _ in range(SIZE)] # list_comprehension으로 queue  생성\n",
    "front = rear = -1"
   ]
  },
  {
   "cell_type": "markdown",
   "metadata": {},
   "source": [
    "#### 함수"
   ]
  },
  {
   "cell_type": "code",
   "execution_count": 2,
   "metadata": {},
   "outputs": [],
   "source": [
    "def isQueueFull(): # 큐가 꽉찼는지 확인하는 함수\n",
    "    global SIZE, queue, front, rear\n",
    "    if (rear != SIZE-1):\n",
    "        return False\n",
    "    elif (rear == SIZE-1 and front == -1): # front가 출구 끝이면\n",
    "        return True\n",
    "    else:\n",
    "        for i in range(front+1, SIZE) :  \n",
    "            queue[i-1]  = queue[i]\n",
    "            queue[i] = None\n",
    "        front -= 1\n",
    "        rear -= 1\n",
    "        return False\n",
    "    # 출구 쪽 None 공간으로 남은 값들을 밀어줘 새로운 값이 들어갈 수 있도록 해줌\n",
    "    \n",
    "    \n",
    "def isQueueEmpty(): # 큐가 비었는지 확인하는 함수\n",
    "    global SIZE, queue, front, rear\n",
    "    if (rear == front):\n",
    "        return True\n",
    "    else:\n",
    "        return False\n",
    "    \n",
    "    \n",
    "def enQueue(data): # 큐에 데이터를 넣는 함수\n",
    "    global SIZE, queue, front, rear\n",
    "    if (isQueueFull()):\n",
    "        print('큐가 꽉 찼습니다.')\n",
    "        return\n",
    "    rear += 1\n",
    "    queue[rear] = data\n",
    "    \n",
    "\n",
    "\n",
    "def deQueue(): # 큐에서 데이터를 빼는 함수\n",
    "    global SIZE, queue, front, rear\n",
    "    if isQueueEmpty():\n",
    "        print('큐가 비었습니다.')\n",
    "        return None\n",
    "    front += 1\n",
    "    data = queue[front]\n",
    "    queue[front] = None\n",
    "    return data\n",
    "\n",
    "\n",
    "def peek(): # 다음 나올 데이터를 알려주는 함수\n",
    "    global SIZE, queue, front, rear\n",
    "    if isQueueEmpty():\n",
    "        print('큐가 비었습니다.')\n",
    "        return None\n",
    "    return queue[front+1]"
   ]
  },
  {
   "cell_type": "markdown",
   "metadata": {},
   "source": [
    "#### 메인 "
   ]
  },
  {
   "cell_type": "code",
   "execution_count": 3,
   "metadata": {},
   "outputs": [
    {
     "name": "stdout",
     "output_type": "stream",
     "text": [
      "출구<----- ['화사', '솔라', '문별', '선미', '동준'] <-----입구\n",
      "밥 손님 :  화사\n",
      "밥 손님 :  솔라\n",
      "[None, None, '문별', '선미', '동준']\n",
      "출구<----- [None, '문별', '선미', '동준', '아이유'] <-----입구\n"
     ]
    }
   ],
   "source": [
    "enQueue('화사')\n",
    "enQueue('솔라')\n",
    "enQueue('문별')\n",
    "enQueue('선미')\n",
    "enQueue('동준')\n",
    "print('출구<-----',queue,'<-----입구')\n",
    "print('밥 손님 : ', deQueue())\n",
    "print('밥 손님 : ', deQueue())\n",
    "print(queue) # 출구쪽 공간 0과 1이 None\n",
    "enQueue('아이유')  # 아이유가 들어갈 수 있도록 앞의 값들의 위치가 1씩 줄어듬\n",
    "print('출구<-----',queue,'<-----입구')"
   ]
  },
  {
   "cell_type": "markdown",
   "metadata": {},
   "source": [
    "---"
   ]
  },
  {
   "cell_type": "markdown",
   "metadata": {},
   "source": [
    "## 6) 원형 큐 "
   ]
  },
  {
   "cell_type": "markdown",
   "metadata": {},
   "source": [
    "### 원형 큐란?\n",
    "* 큐의 처음과 끝이 연결된 구조"
   ]
  },
  {
   "cell_type": "markdown",
   "metadata": {},
   "source": [
    "### 차이점\n",
    "\n",
    "1. 순차 큐에서는 오버헤드가 발생하지만 원형 큐는 처음과 끝이 연결되어 있어 오버헤드가 발생하지 않는다.\n",
    "2. 큐가 꽉찬 상태이지만 front가 rear보다 크게 되었을 때 비었다고 인식할 수 있다. 그래서  **`% 큐의크기`** 를 사용해 그 점을 방지하는 것이 원형 큐다."
   ]
  },
  {
   "cell_type": "markdown",
   "metadata": {},
   "source": [
    "### 원형 큐 구현"
   ]
  },
  {
   "cell_type": "markdown",
   "metadata": {},
   "source": [
    "#### 전역"
   ]
  },
  {
   "cell_type": "code",
   "execution_count": 33,
   "metadata": {},
   "outputs": [],
   "source": [
    "SIZE = 5\n",
    "queue = [None for _ in range(SIZE)] # list_comprehension으로 queue  생성\n",
    "front = rear = -1"
   ]
  },
  {
   "cell_type": "markdown",
   "metadata": {},
   "source": [
    "#### 함수"
   ]
  },
  {
   "cell_type": "code",
   "execution_count": 34,
   "metadata": {},
   "outputs": [],
   "source": [
    "def isQueueEmpty(): # 큐가 비었는지 확인하는 함수\n",
    "    global SIZE, queue, front, rear\n",
    "    if (rear == front):\n",
    "        return True\n",
    "    else:\n",
    "        return False\n",
    "\n",
    "def isQueueFull(): # 큐가 꽉찼는지 확인하는 함수\n",
    "    global SIZE, queue, front, rear\n",
    "    if ((rear+1) % SIZE == front):\n",
    "        return True\n",
    "    else:\n",
    "        return False\n",
    "\n",
    "    \n",
    "def enQueue(data): # 큐에 데이터를 넣는 함수\n",
    "    global SIZE, queue, front, rear\n",
    "    if (isQueueFull()):\n",
    "        print('큐가 꽉 찼습니다.')\n",
    "        return\n",
    "    rear = (rear + 1) % SIZE\n",
    "    queue[rear] = data\n",
    "    \n",
    "\n",
    "def deQueue(): # 큐에서 데이터를 빼는 함수\n",
    "    global SIZE, queue, front, rear\n",
    "    if isQueueEmpty():\n",
    "        print('큐가 비었습니다.')\n",
    "        return None\n",
    "    front = (front+1) % SIZE\n",
    "    data = queue[front]\n",
    "    queue[front] = None\n",
    "    return data\n",
    "\n",
    "\n",
    "def peek(): # 다음 나올 데이터를 알려주는 함수\n",
    "    global SIZE, queue, front, rear\n",
    "    if isQueueEmpty():\n",
    "        print('큐가 비었습니다.')\n",
    "        return None\n",
    "    return queue[(front+1) % SIZE]"
   ]
  },
  {
   "cell_type": "markdown",
   "metadata": {},
   "source": [
    "#### 메인"
   ]
  },
  {
   "cell_type": "code",
   "execution_count": 35,
   "metadata": {
    "scrolled": true
   },
   "outputs": [
    {
     "name": "stdout",
     "output_type": "stream",
     "text": [
      "['화사', '솔라', '문별', '선미', '동준']\n",
      "밥 손님 :  화사\n",
      "밥 손님 :  솔라\n",
      "[None, None, '문별', '선미', '동준']\n",
      "['아이유', None, '문별', '선미', '동준']\n",
      "밥 손님 :  문별\n",
      "['아이유', '박진영', None, '선미', '동준']\n",
      "밥 손님 :  선미\n",
      "['아이유', '박진영', '백종원', None, '동준']\n",
      "밥 손님 :  동준\n",
      "밥 손님 :  아이유\n",
      "[None, '박진영', '백종원', '유재석', None]\n"
     ]
    }
   ],
   "source": [
    "enQueue('화사')\n",
    "enQueue('솔라')\n",
    "enQueue('문별')\n",
    "enQueue('선미')\n",
    "enQueue('동준')\n",
    "print(queue)\n",
    "print('밥 손님 : ', deQueue())\n",
    "print('밥 손님 : ', deQueue())\n",
    "print(queue)\n",
    "enQueue('아이유') \n",
    "print(queue)\n",
    "print('밥 손님 : ', deQueue())\n",
    "enQueue('박진영')\n",
    "print(queue)\n",
    "print('밥 손님 : ', deQueue())\n",
    "enQueue('백종원')\n",
    "print(queue)\n",
    "print('밥 손님 : ', deQueue())\n",
    "print('밥 손님 : ', deQueue())\n",
    "enQueue('유재석')\n",
    "print(queue)"
   ]
  },
  {
   "cell_type": "markdown",
   "metadata": {},
   "source": [
    "---"
   ]
  },
  {
   "cell_type": "markdown",
   "metadata": {},
   "source": [
    "---"
   ]
  },
  {
   "cell_type": "markdown",
   "metadata": {},
   "source": [
    "# 비선형 자료구조"
   ]
  },
  {
   "cell_type": "markdown",
   "metadata": {},
   "source": [
    "## 1) 이진 트리"
   ]
  },
  {
   "cell_type": "markdown",
   "metadata": {},
   "source": [
    "### 트리구조란?\n",
    "* 회사 사장을 필두로 그 아래 직책들이 구성되어 있는 조직표 또는 컴퓨터 상위 폴더 안에 하위 폴더들이 계속 이어져 있는 구조와 같은 구성"
   ]
  },
  {
   "cell_type": "markdown",
   "metadata": {},
   "source": [
    "### 이진 트리의 종류\n",
    "* 포화 이진 트리, 완전 이진 트리, 편향 이진 트리 등"
   ]
  },
  {
   "cell_type": "markdown",
   "metadata": {},
   "source": [
    "### 이진 트리의 순회\n",
    "* 순회 종류 \n",
    "    * 이진 트리의 노드 전체를 한 번씩 방문하는 것을 순회(traversal)라고 함\n",
    "    * 노드 데이터를 처리하는 순서에 따라 전위 순회, 중위 순회, 후위 순회\n",
    "\n",
    "1. 전위 순회(preorder traversal)\n",
    "    1. **현재 노드 데이터 처리**\n",
    "    2. 왼쪽 서브 트리로 이동\n",
    "    3. 오른쪽 서브 트리로 이동\n",
    "    \n",
    "2. 중위 순회(inorder traversal)\n",
    "    1. 왼쪽 서브 트리로 이동\n",
    "    2. **현재 노드 데이터 처리**\n",
    "    3. 오른쪽 서브트리로 이동\n",
    "    \n",
    "3. 후위 순회(postorder traversal)\n",
    "    1. 왼쪽 서브 트리로 이동\n",
    "    2. 오른쪽 서브 트리로 이동\n",
    "    3. **현재 노드 데이터 처리**"
   ]
  },
  {
   "cell_type": "markdown",
   "metadata": {},
   "source": [
    "### 이진트리구현"
   ]
  },
  {
   "cell_type": "markdown",
   "metadata": {},
   "source": [
    "#### 전역"
   ]
  },
  {
   "cell_type": "code",
   "execution_count": null,
   "metadata": {},
   "outputs": [],
   "source": []
  },
  {
   "cell_type": "markdown",
   "metadata": {},
   "source": [
    "#### 함수"
   ]
  },
  {
   "cell_type": "code",
   "execution_count": 1,
   "metadata": {},
   "outputs": [],
   "source": [
    "class TreeNode():\n",
    "    def __init__(self):\n",
    "        self.left = None\n",
    "        self.data = None\n",
    "        self.right = None"
   ]
  },
  {
   "cell_type": "markdown",
   "metadata": {},
   "source": [
    "#### 메인"
   ]
  },
  {
   "cell_type": "code",
   "execution_count": 2,
   "metadata": {},
   "outputs": [],
   "source": [
    "node1 = TreeNode()\n",
    "node1.data = '화사'\n",
    "\n",
    "node2 = TreeNode()\n",
    "node2.data = '솔라'\n",
    "node1.left = node2\n",
    "\n",
    "node3 = TreeNode()\n",
    "node3.data = '문별'\n",
    "node1.right = node3\n",
    "\n",
    "node4 = TreeNode()\n",
    "node4.data = '휘인'\n",
    "node2.left = node4\n",
    "\n",
    "node5 = TreeNode()\n",
    "node5.data = '쯔위'\n",
    "node2.right = node5\n",
    "\n",
    "node6 = TreeNode()\n",
    "node6.data = '선미'\n",
    "node3.left = node6\n"
   ]
  },
  {
   "cell_type": "code",
   "execution_count": 4,
   "metadata": {
    "scrolled": false
   },
   "outputs": [
    {
     "name": "stdout",
     "output_type": "stream",
     "text": [
      "화사\n",
      "솔라 문별\n",
      "휘인 쯔위 선미\n"
     ]
    }
   ],
   "source": [
    "print(node1.data)\n",
    "print(node1.left.data, node1.right.data)\n",
    "print(node1.left.left.data, node1.left.right.data, node1.right.left.data)"
   ]
  },
  {
   "cell_type": "markdown",
   "metadata": {},
   "source": [
    "---"
   ]
  },
  {
   "cell_type": "markdown",
   "metadata": {},
   "source": [
    "## 2) 이진 탐색 트리"
   ]
  },
  {
   "cell_type": "markdown",
   "metadata": {},
   "source": [
    "### 이진 탐색 트리의 특징\n",
    "* 이진 트리 중 활용도가 높은 트리로, 데이터 크기를 기준으로 일정 형태로 구성함\n",
    "\n",
    "1. 왼쪽 서브 트리는 루트 노드보다 모두 작은 값을 가진다.\n",
    "2. 오른쪽 서브 트리는 루트 노드보다 모두 큰 값을 가진다.\n",
    "3. 각 서브 트리도 1,2의 특징을 갖는다.\n",
    "4. 모든 노드 값은 중복되지 않는다. 즉, 중복된 값은 이진 탐색 트리에 저장할 수 없다."
   ]
  },
  {
   "cell_type": "markdown",
   "metadata": {},
   "source": [
    "### 이진 탐색 트리 구현"
   ]
  },
  {
   "cell_type": "markdown",
   "metadata": {},
   "source": [
    "#### 전역"
   ]
  },
  {
   "cell_type": "code",
   "execution_count": 55,
   "metadata": {},
   "outputs": [],
   "source": [
    "memory = []\n",
    "root = None\n",
    "nameAry = ['블랙핑크','레드벨벳','마마무','에이핑크','트와이스']"
   ]
  },
  {
   "cell_type": "markdown",
   "metadata": {},
   "source": [
    "#### 함수"
   ]
  },
  {
   "cell_type": "code",
   "execution_count": 56,
   "metadata": {},
   "outputs": [],
   "source": [
    "class TreeNode():\n",
    "    def __init__(self):\n",
    "        self.left = None\n",
    "        self.data = None\n",
    "        self.right = None"
   ]
  },
  {
   "cell_type": "markdown",
   "metadata": {},
   "source": [
    "#### 메인"
   ]
  },
  {
   "cell_type": "code",
   "execution_count": 57,
   "metadata": {},
   "outputs": [],
   "source": [
    "# 첫 노드 생성\n",
    "node = TreeNode()\n",
    "node.data = nameAry[0]\n",
    "root = node\n",
    "memory.append(node)\n",
    "\n",
    "for name in nameAry[1:]: # 레드벨벳부터\n",
    "    node = TreeNode()\n",
    "    node.data = name\n",
    "    \n",
    "    current = root\n",
    "    while True:\n",
    "        if name < current.data :\n",
    "            if current.left == None:\n",
    "                current.left = node\n",
    "                break\n",
    "            current = current.left\n",
    "        else:\n",
    "            if current.right == None:\n",
    "                current.right = node\n",
    "                break\n",
    "            current = current.right\n",
    "    \n",
    "    memory.append(node)"
   ]
  },
  {
   "cell_type": "code",
   "execution_count": 58,
   "metadata": {},
   "outputs": [
    {
     "name": "stdout",
     "output_type": "stream",
     "text": [
      "이진 탐색트리 완료!\n"
     ]
    }
   ],
   "source": [
    "print('이진 탐색트리 완료!')"
   ]
  },
  {
   "cell_type": "code",
   "execution_count": 72,
   "metadata": {
    "scrolled": true
   },
   "outputs": [
    {
     "name": "stdout",
     "output_type": "stream",
     "text": [
      "마마무 찾음^^\n"
     ]
    }
   ],
   "source": [
    "findData = '마마무'\n",
    "\n",
    "current = root\n",
    "while True:\n",
    "    if current.data == findData :\n",
    "        print(findData, '찾음^^')\n",
    "        break\n",
    "    elif current.data > findData:\n",
    "        if current.left == None:\n",
    "            print(findData, '이 트리에 없음')\n",
    "            break\n",
    "        current = current.left\n",
    "    else:\n",
    "        if current.right == None:\n",
    "            print(findData, '이 트리에 없음')\n",
    "            break\n",
    "        current = current.right\n",
    "        \n"
   ]
  },
  {
   "cell_type": "markdown",
   "metadata": {},
   "source": [
    "---"
   ]
  },
  {
   "cell_type": "markdown",
   "metadata": {},
   "source": [
    "## 3) 그래프"
   ]
  },
  {
   "cell_type": "markdown",
   "metadata": {},
   "source": [
    "### 그래프 구조란?\n",
    "* 버스 정류장과 여러 노선이 함께 포함된 형태 또는, 링크드인(Linked in)과 같은 사회 관계망 서비스의 연결 등의 형태"
   ]
  },
  {
   "cell_type": "markdown",
   "metadata": {},
   "source": [
    "### 그래프의 개념\n",
    "* 여러 노드가 서로 연결된 자료구조\n",
    "* 예) 지하철 노선도, 도시 도로망, 전기 회로도, 인맥 관계도"
   ]
  },
  {
   "cell_type": "markdown",
   "metadata": {},
   "source": [
    "### 그래프의 종류\n",
    "1. 무방향 그래프\n",
    "    * **`간선(Edge)`**에 방향성이 없는 그래프\n",
    "2. 방향 그래프\n",
    "    * 화살표로 간선 방향을 표기하고, 그래프의 정점 집합이 무방향 그래프와 같음\n",
    "3. 가중치 그래프\n",
    "    * 간선마다 가중치가 다르게 부여된 그래프\n",
    "    * 무방향 그래프와 방향 그래프에 각각 가중치를 부여한 경우"
   ]
  },
  {
   "cell_type": "markdown",
   "metadata": {},
   "source": [
    "### 깊이 우선 탐색의 작동\n",
    "* 그래프의 모든 정점을 한 번씩 방문하는 것을 그래프 순회(Graph Traversal)라고 함\n",
    "* 그래프 순회 방식은 깊이 우선 탐색, 너비 우선 탐색이 대표적"
   ]
  },
  {
   "cell_type": "markdown",
   "metadata": {},
   "source": [
    "### 그래프의 인접 행렬 표현\n",
    "* 그래프를 코드로 구현할 때는 인접 행렬을 사용\n",
    "* 인접 행렬은 정방향으로 구성된 행렬로 정점이 4개인 그래프는 4x4로 표현\n",
    "* 인접 행렬은 대각선으로 대칭"
   ]
  },
  {
   "cell_type": "markdown",
   "metadata": {},
   "source": [
    "#### 함수"
   ]
  },
  {
   "cell_type": "code",
   "execution_count": 7,
   "metadata": {},
   "outputs": [],
   "source": [
    "class Graph():\n",
    "    def __init__(self, size): # size = 정점의 개수\n",
    "        self.SIZE = size\n",
    "        self.graph = [ [0 for _ in range(size)] for _ in range(size)]\n",
    "        "
   ]
  },
  {
   "cell_type": "markdown",
   "metadata": {},
   "source": [
    "#### 전역"
   ]
  },
  {
   "cell_type": "code",
   "execution_count": 8,
   "metadata": {},
   "outputs": [],
   "source": [
    "G = None\n"
   ]
  },
  {
   "cell_type": "markdown",
   "metadata": {},
   "source": [
    "#### 메인\n"
   ]
  },
  {
   "cell_type": "code",
   "execution_count": 10,
   "metadata": {
    "scrolled": true
   },
   "outputs": [
    {
     "name": "stdout",
     "output_type": "stream",
     "text": [
      "0  1  1  1  \n",
      "1  0  0  0  \n",
      "1  1  0  1  \n",
      "1  0  1  0  \n"
     ]
    }
   ],
   "source": [
    "G = Graph(4)\n",
    "G.graph[0][1] = 1; G.graph[0][2] = 1; G.graph[0][3] = 1\n",
    "G.graph[1][0] = 1; G.graph[0][2] = 1;\n",
    "G.graph[2][0] = 1; G.graph[2][1] = 1; G.graph[2][3] = 1\n",
    "G.graph[3][0] = 1; G.graph[3][2] = 1\n",
    "\n",
    "\n",
    "for row in range(4):\n",
    "    for col in range(4):\n",
    "        print(G.graph[row][col], end = '  ')\n",
    "    print()"
   ]
  },
  {
   "cell_type": "markdown",
   "metadata": {},
   "source": [
    "---"
   ]
  },
  {
   "cell_type": "markdown",
   "metadata": {},
   "source": [
    "---"
   ]
  },
  {
   "cell_type": "markdown",
   "metadata": {},
   "source": [
    "# 알고리즘"
   ]
  },
  {
   "cell_type": "markdown",
   "metadata": {},
   "source": [
    "* 어떤 문제를 해결해 가는 논리적인 과정\n",
    "* 자료구조라는 `재료`로 요리를 하는 과정이 **`알고리즘`**"
   ]
  },
  {
   "cell_type": "markdown",
   "metadata": {},
   "source": [
    "## 알고리즘 표현법"
   ]
  },
  {
   "cell_type": "markdown",
   "metadata": {},
   "source": [
    "* **일반 언어 표현**\n",
    "    * 일반적인 자연어를 사용해서 설명하듯이 알고리즘을 표현\n",
    "    * 일반 사람이 이해하기 쉽게 표현할 수 있으나, 최종적으로 코드로 변경하는 데는 한계가 있음.\n",
    "    * 어떤 알고리즘을 사용해야 할지 아이디어가 떠오르지 않는 시점에서, 생각 범위를 넓히는 단계 정도에 사용하면 무난\n",
    "   \n",
    "   \n",
    "* **순서도를 이용한 표현**\n",
    "    * 여러 종류의 상자와 상자를 이어 주는 화살표를 이용해서 명령 순서를 표현\n",
    "    * 간단한 알고리즘은 쉽게 표현할 수 있지만, 복잡한 알고리즘은 표현하기 어려운 경우가 많음\n",
    "    \n",
    "* **의사코드를 이용한 표현**\n",
    "    * 프로그래밍 언어보다는 좀 더 인간의 언어에 가까운 형태\n",
    "    * 프로그램 코드와 일반언어의 중간\n",
    "    * 프로그램 코드를 코딩하는 것보다 알고리즘을 좀 더 명확히 정립하는데 도움이 되고 코드에 설명을 달지 않아도 이해하는 데 무리가 없다.\n",
    "\n",
    "* **프로그램 코드로 표현**\n",
    "    * 실제로 사용하는 프로그래밍 언어의 코드로 바로 작성 가능\n",
    "    \n",
    "* **혼합 형태**\n",
    "    * 간단한 알고리즘은 직접 코드로 작성\n",
    "    * 복잡한 알고리즘은 일반 언어, 의사코드, 순서도, 그림 등을 종합적으로 활용해서 표현"
   ]
  },
  {
   "cell_type": "markdown",
   "metadata": {},
   "source": [
    "## 알고리즘의 성능"
   ]
  },
  {
   "cell_type": "markdown",
   "metadata": {},
   "source": [
    "* 알고리즘의 성능 측정\n",
    "    * 알고리즘을 소요 시간을 기준으로 알고리즘 성능을 분석 방법이 '**시간 복잡도(Time Complexity)**'\n",
    "   "
   ]
  },
  {
   "cell_type": "markdown",
   "metadata": {},
   "source": [
    "* 알고리즘 성능 표기\n",
    "    * 빅-오 표기법(Big-Oh Notation)으로 O(f(n)) 형태\n",
    "    * 대표적인 함수는 O(1), O(log n), O(n), O(n log n) 등이 있다."
   ]
  },
  {
   "cell_type": "markdown",
   "metadata": {},
   "source": [
    "---"
   ]
  },
  {
   "cell_type": "markdown",
   "metadata": {},
   "source": [
    "## 1) 정렬"
   ]
  },
  {
   "cell_type": "markdown",
   "metadata": {},
   "source": [
    "### 정렬의 개념\n",
    "* 중요 알고리즘 중 하나인 정렬(sort)은 자료들을 일정한 순서대로 나열한 것\n",
    "* 예) 학교 출석부 또는 종류에 따라 가지런히 놓여 있는 칼들처럼 순서대로 데이터가 나열되어 잇는 것"
   ]
  },
  {
   "cell_type": "markdown",
   "metadata": {},
   "source": [
    "### 정렬 알고리즘의 종류\n",
    "* 오름차순 정렬이든 내림차순 정렬이든 결과의 형태만 다를 뿐이지 같은 방식으로 처리됨\n",
    "* 정렬하는 방법에 대한 정렬\n",
    "    * 선택 정렬(Selection Sort)\n",
    "    * 삽입 정렬(Selection Sort)\n",
    "    * 버블 정렬(Bubble Sort)\n",
    "    * 퀵 정렬(Quick Sort)"
   ]
  },
  {
   "cell_type": "markdown",
   "metadata": {},
   "source": [
    "### 선택정렬"
   ]
  },
  {
   "cell_type": "markdown",
   "metadata": {},
   "source": [
    "#### 선택 정렬의 개념 \n",
    "* 여러 데이터 중에서 가장 작은 값을 뽑는 작동을 반복하여 값을 정렬"
   ]
  },
  {
   "cell_type": "markdown",
   "metadata": {},
   "source": [
    "#### 선택 정렬 구현 1"
   ]
  },
  {
   "cell_type": "markdown",
   "metadata": {},
   "source": [
    "##### 함수"
   ]
  },
  {
   "cell_type": "code",
   "execution_count": 15,
   "metadata": {},
   "outputs": [],
   "source": [
    "def findMinIndex(ary) : # 최소값의 위치를 찾는 함수\n",
    "    minIdx = 0\n",
    "    for i in range(1, len(ary)):\n",
    "        if (ary[minIdx] > ary[i]):\n",
    "            minIdx = i\n",
    "    return minIdx"
   ]
  },
  {
   "cell_type": "markdown",
   "metadata": {},
   "source": [
    "##### 전역"
   ]
  },
  {
   "cell_type": "code",
   "execution_count": 11,
   "metadata": {},
   "outputs": [],
   "source": [
    "# testAry = [55, 88, 33, 77]\n",
    "import random\n",
    "testAry = [ random.randint(0,99) for _ in range(20)]"
   ]
  },
  {
   "cell_type": "markdown",
   "metadata": {},
   "source": [
    "##### 메인"
   ]
  },
  {
   "cell_type": "code",
   "execution_count": 14,
   "metadata": {
    "scrolled": true
   },
   "outputs": [
    {
     "name": "stdout",
     "output_type": "stream",
     "text": [
      "[30, 68, 32, 38, 7, 20, 98, 13, 67, 19, 81, 48, 59, 52, 19, 30, 57, 70, 31, 90]\n",
      "최솟값 7\n"
     ]
    }
   ],
   "source": [
    "print(testAry)\n",
    "minPos = findMinIndex(testAry)\n",
    "print('최솟값', testAry[minPos])"
   ]
  },
  {
   "cell_type": "markdown",
   "metadata": {},
   "source": [
    "#### 선택 정렬 구현 2(방 두개를 씀)"
   ]
  },
  {
   "cell_type": "markdown",
   "metadata": {},
   "source": [
    "##### 전역"
   ]
  },
  {
   "cell_type": "code",
   "execution_count": 4,
   "metadata": {},
   "outputs": [],
   "source": [
    "import random\n",
    "before = [ random.randint(100, 200) for _ in range(10)]\n",
    "after = []"
   ]
  },
  {
   "cell_type": "markdown",
   "metadata": {},
   "source": [
    "##### 함수"
   ]
  },
  {
   "cell_type": "code",
   "execution_count": 2,
   "metadata": {},
   "outputs": [],
   "source": [
    "def findMinIndex(ary) :\n",
    "    minIdx = 0\n",
    "    for i in range(1, len(ary)):\n",
    "        if (ary[minIdx] > ary[i]):\n",
    "            minIdx = i\n",
    "    return minIdx"
   ]
  },
  {
   "cell_type": "markdown",
   "metadata": {},
   "source": [
    "##### 메인"
   ]
  },
  {
   "cell_type": "code",
   "execution_count": 5,
   "metadata": {
    "scrolled": true
   },
   "outputs": [
    {
     "name": "stdout",
     "output_type": "stream",
     "text": [
      "정렬 전 --> [142, 196, 193, 177, 138, 105, 102, 127, 173, 194]\n",
      "정렬 후 --> [102, 105, 127, 138, 142, 173, 177, 193, 194, 196]\n"
     ]
    }
   ],
   "source": [
    "print('정렬 전 -->', before)\n",
    "for _ in range(len(before)):\n",
    "    minPos = findMinIndex(before)\n",
    "    after.append(before[minPos])\n",
    "    del(before[minPos])\n",
    "print('정렬 후 -->', after)"
   ]
  },
  {
   "cell_type": "markdown",
   "metadata": {},
   "source": [
    "#### 선택 정렬 구현 3(방 한개를 씀)"
   ]
  },
  {
   "cell_type": "markdown",
   "metadata": {},
   "source": [
    "##### 전역"
   ]
  },
  {
   "cell_type": "code",
   "execution_count": 8,
   "metadata": {},
   "outputs": [],
   "source": [
    "import random\n",
    "dataAry = [random.randint(100,200) for _ in range(10)]"
   ]
  },
  {
   "cell_type": "markdown",
   "metadata": {},
   "source": [
    "##### 함수"
   ]
  },
  {
   "cell_type": "code",
   "execution_count": 6,
   "metadata": {},
   "outputs": [],
   "source": [
    "def selectionSort(ary):\n",
    "    n = len(ary)\n",
    "    for cy in range(0, n-1):\n",
    "        minIdx = cy\n",
    "        for i in range(cy+1, n):\n",
    "            if (ary[minIdx] > ary[i]):\n",
    "                minIdx = i\n",
    "        ary[cy], ary[minIdx] = ary[minIdx], ary[cy]\n",
    "    return ary"
   ]
  },
  {
   "cell_type": "markdown",
   "metadata": {},
   "source": [
    "##### 메인"
   ]
  },
  {
   "cell_type": "code",
   "execution_count": 7,
   "metadata": {
    "scrolled": true
   },
   "outputs": [
    {
     "name": "stdout",
     "output_type": "stream",
     "text": [
      "정렬 전--> [119, 163, 187, 133, 195, 152, 142, 168, 118, 177]\n",
      "정렬 후--> [118, 119, 133, 142, 152, 163, 168, 177, 187, 195]\n"
     ]
    }
   ],
   "source": [
    "print('정렬 전-->', dataAry)\n",
    "dataAry = selectionSort(dataAry)\n",
    "print('정렬 후-->', dataAry)"
   ]
  },
  {
   "cell_type": "markdown",
   "metadata": {},
   "source": [
    "---"
   ]
  },
  {
   "cell_type": "markdown",
   "metadata": {},
   "source": [
    "## 2) 검색"
   ]
  },
  {
   "cell_type": "markdown",
   "metadata": {},
   "source": [
    "* 검색은 정렬된 상태에서 빠르게 원하는 것을 찾을 수 있음."
   ]
  },
  {
   "cell_type": "markdown",
   "metadata": {},
   "source": [
    "### 검색의 개념\n",
    "* 어떤 집합에서 원하는 것을 찾는 것으로, 탐색이라고도 함\n",
    "* 검색에는 순차 검색, 이진 검색, 트리 검색 등이 있음\n",
    "* 검색에 실패하면 -1을 반환하는 것이 일반적임"
   ]
  },
  {
   "cell_type": "markdown",
   "metadata": {},
   "source": [
    "### 검색 알고리즘의 종류"
   ]
  },
  {
   "cell_type": "markdown",
   "metadata": {},
   "source": [
    "* 순차 검색\n",
    "    * 검색할 집합이 정렬되어 있지 않은 상태일 때\n",
    "    * 처음부터 차례대로 찾아보는 것으로, 쉽지만 비효율적\n",
    "    * 집합의 데이터가 정렬되어 있지 않다면 이 검색 외에 특별한 방법 없음\n",
    "    \n",
    "* 이진 검색\n",
    "    * 데이터가 정렬되어 있다면 이진 검색도 사용 가능\n",
    "    * 순차 검색에 비해 월등히 효율적이라 데이터가 몇 천만개 이상이어도 빠르게 찾음\n",
    "    \n",
    "* 트리 검색\n",
    "    * 데이터 검색에는 상당히 효율적이지만 트리의 삽입, 삭제 등에는 부담"
   ]
  },
  {
   "cell_type": "markdown",
   "metadata": {},
   "source": [
    "#### 순차 검색"
   ]
  },
  {
   "cell_type": "markdown",
   "metadata": {},
   "source": [
    "##### 전역"
   ]
  },
  {
   "cell_type": "code",
   "execution_count": 39,
   "metadata": {},
   "outputs": [],
   "source": [
    "import random\n",
    "SIZE = 10\n",
    "dataAry = [random.randint(1,99) for _ in range(10)]\n",
    "findData = dataAry[random.randint(0, SIZE-1)]"
   ]
  },
  {
   "cell_type": "markdown",
   "metadata": {},
   "source": [
    "##### 함수"
   ]
  },
  {
   "cell_type": "code",
   "execution_count": 13,
   "metadata": {},
   "outputs": [],
   "source": [
    "def seqSearch(ary, fData):\n",
    "    pos = -1\n",
    "    size = len(ary)\n",
    "    for i in range(0, size, 1):\n",
    "        if (ary[i] == fData):\n",
    "            pos = i\n",
    "            break\n",
    "    return pos\n",
    "        "
   ]
  },
  {
   "cell_type": "markdown",
   "metadata": {},
   "source": [
    "##### 메인"
   ]
  },
  {
   "cell_type": "code",
   "execution_count": 38,
   "metadata": {
    "scrolled": true
   },
   "outputs": [
    {
     "name": "stdout",
     "output_type": "stream",
     "text": [
      "배열--> [7, 45, 32, 60, 31, 81, 82, 97, 74, 80]\n",
      "31 가 4  에 있음\n"
     ]
    }
   ],
   "source": [
    "print('배열-->', dataAry)\n",
    "position = seqSearch(dataAry, findData)\n",
    "if position == -1:\n",
    "    print(findData, '없어요 ㅠ')\n",
    "else:\n",
    "    print(findData, '가', position, ' 에 있음')"
   ]
  },
  {
   "cell_type": "markdown",
   "metadata": {},
   "source": [
    "#### 이진 검색"
   ]
  },
  {
   "cell_type": "markdown",
   "metadata": {},
   "source": [
    "##### 전역"
   ]
  },
  {
   "cell_type": "code",
   "execution_count": 2,
   "metadata": {},
   "outputs": [],
   "source": [
    "import random\n",
    "SIZE = 10\n",
    "dataAry = [random.randint(1,99) for _ in range(SIZE)]\n",
    "findData = dataAry[random.randint(0, SIZE-1)]\n",
    "dataAry.sort()"
   ]
  },
  {
   "cell_type": "markdown",
   "metadata": {},
   "source": [
    "##### 함수"
   ]
  },
  {
   "cell_type": "code",
   "execution_count": 5,
   "metadata": {},
   "outputs": [],
   "source": [
    "def binSearch(ary, fData):\n",
    "    pos  = -1\n",
    "    start = 0\n",
    "    end = len(ary) - 1\n",
    "    while (start <= end):\n",
    "        mid = (start + end) // 2\n",
    "        if fData == ary[mid]:\n",
    "            return mid\n",
    "        elif fData > ary[mid]:\n",
    "            start = mid + 1\n",
    "        else:\n",
    "            end = mid - 1\n",
    "    \n",
    "    \n",
    "    return pos\n",
    "        "
   ]
  },
  {
   "cell_type": "markdown",
   "metadata": {},
   "source": [
    "##### 메인"
   ]
  },
  {
   "cell_type": "code",
   "execution_count": 6,
   "metadata": {
    "scrolled": true
   },
   "outputs": [
    {
     "name": "stdout",
     "output_type": "stream",
     "text": [
      "배열--> [9, 14, 18, 24, 30, 54, 56, 58, 60, 94]\n",
      "24 가 3  에 있음\n"
     ]
    }
   ],
   "source": [
    "print('배열-->', dataAry)\n",
    "position = binSearch(dataAry, findData)\n",
    "if position == -1:\n",
    "    print(findData, '없어요 ㅠ')\n",
    "else:\n",
    "    print(findData, '가', position, ' 에 있음')"
   ]
  },
  {
   "cell_type": "markdown",
   "metadata": {},
   "source": [
    " ---"
   ]
  },
  {
   "cell_type": "markdown",
   "metadata": {},
   "source": [
    "## 3) 재귀"
   ]
  },
  {
   "cell_type": "markdown",
   "metadata": {},
   "source": [
    "### 재귀 알고리즘이란?\n",
    "* 양쪽에 거울이 있을 때 거울에 비친 자신이 무한 반복해서 비치는 것 또는 마트료시카 인형처럼 동일한 작동을 무한적으로 반복하는 알고리즘을 말함"
   ]
  },
  {
   "cell_type": "markdown",
   "metadata": {},
   "source": [
    "### 재귀 호출의 개념\n",
    "* 재귀 호출(Recursion)은 자신을 다시 호출하는 것"
   ]
  },
  {
   "cell_type": "markdown",
   "metadata": {},
   "source": [
    "### 재귀 호출의 작동\n",
    "* 상자를 반복해서 여는 과정을 재귀 호출 형태로 표현"
   ]
  },
  {
   "cell_type": "markdown",
   "metadata": {},
   "source": [
    "1.무한 반복"
   ]
  },
  {
   "cell_type": "markdown",
   "metadata": {},
   "source": [
    "#### 전역"
   ]
  },
  {
   "cell_type": "code",
   "execution_count": 2,
   "metadata": {},
   "outputs": [],
   "source": [
    "def openBox():\n",
    "    print('박스를 엽니다~~~')\n",
    "    openBox()"
   ]
  },
  {
   "cell_type": "markdown",
   "metadata": {},
   "source": [
    "#### 함수"
   ]
  },
  {
   "cell_type": "code",
   "execution_count": null,
   "metadata": {},
   "outputs": [],
   "source": []
  },
  {
   "cell_type": "markdown",
   "metadata": {},
   "source": [
    "#### 메인"
   ]
  },
  {
   "cell_type": "code",
   "execution_count": 6,
   "metadata": {},
   "outputs": [],
   "source": [
    "openBox() # 무한 루프 "
   ]
  },
  {
   "cell_type": "markdown",
   "metadata": {},
   "source": [
    "  "
   ]
  },
  {
   "cell_type": "markdown",
   "metadata": {},
   "source": [
    "2. 횟수를 정해놓고 작동"
   ]
  },
  {
   "cell_type": "markdown",
   "metadata": {},
   "source": [
    "#### 전역"
   ]
  },
  {
   "cell_type": "code",
   "execution_count": 1,
   "metadata": {},
   "outputs": [],
   "source": [
    "count = 10 # 10번만 작동하게 변수 작성"
   ]
  },
  {
   "cell_type": "markdown",
   "metadata": {},
   "source": [
    "#### 함수"
   ]
  },
  {
   "cell_type": "code",
   "execution_count": 2,
   "metadata": {},
   "outputs": [],
   "source": [
    "def openBox():\n",
    "    global count\n",
    "    print('종이 상자 열기~~~')\n",
    "    count -= 1\n",
    "    if count == 0:\n",
    "        print('** 반지 넣기 **')\n",
    "        return\n",
    "    openBox()\n",
    "    print('종이 상자 닫기!')\n",
    "    return\n",
    "\n"
   ]
  },
  {
   "cell_type": "markdown",
   "metadata": {},
   "source": [
    "#### 메인"
   ]
  },
  {
   "cell_type": "code",
   "execution_count": 3,
   "metadata": {
    "scrolled": true
   },
   "outputs": [
    {
     "name": "stdout",
     "output_type": "stream",
     "text": [
      "종이 상자 열기~~~\n",
      "종이 상자 열기~~~\n",
      "종이 상자 열기~~~\n",
      "종이 상자 열기~~~\n",
      "종이 상자 열기~~~\n",
      "종이 상자 열기~~~\n",
      "종이 상자 열기~~~\n",
      "종이 상자 열기~~~\n",
      "종이 상자 열기~~~\n",
      "종이 상자 열기~~~\n",
      "** 반지 넣기 **\n",
      "종이 상자 닫기!\n",
      "종이 상자 닫기!\n",
      "종이 상자 닫기!\n",
      "종이 상자 닫기!\n",
      "종이 상자 닫기!\n",
      "종이 상자 닫기!\n",
      "종이 상자 닫기!\n",
      "종이 상자 닫기!\n",
      "종이 상자 닫기!\n"
     ]
    }
   ],
   "source": [
    "openBox()"
   ]
  },
  {
   "cell_type": "markdown",
   "metadata": {},
   "source": [
    "### 재귀 호출 작동방식의 이해"
   ]
  },
  {
   "cell_type": "markdown",
   "metadata": {},
   "source": [
    "#### 숫자 합계 내기(1부터 10까지 합계를 구하는 예)"
   ]
  },
  {
   "cell_type": "markdown",
   "metadata": {},
   "source": [
    "##### 전역"
   ]
  },
  {
   "cell_type": "code",
   "execution_count": 1,
   "metadata": {},
   "outputs": [],
   "source": []
  },
  {
   "cell_type": "markdown",
   "metadata": {},
   "source": [
    "##### 함수"
   ]
  },
  {
   "cell_type": "code",
   "execution_count": 1,
   "metadata": {},
   "outputs": [],
   "source": [
    "def addNumber(num):\n",
    "    if num <= 1:\n",
    "        return 1\n",
    "    return num + addNumber(num-1)\n"
   ]
  },
  {
   "cell_type": "markdown",
   "metadata": {},
   "source": [
    "##### 메인"
   ]
  },
  {
   "cell_type": "code",
   "execution_count": 4,
   "metadata": {},
   "outputs": [
    {
     "data": {
      "text/plain": [
       "55"
      ]
     },
     "execution_count": 4,
     "metadata": {},
     "output_type": "execute_result"
    }
   ],
   "source": [
    "addNumber(10)"
   ]
  },
  {
   "cell_type": "markdown",
   "metadata": {},
   "source": [
    "---"
   ]
  },
  {
   "cell_type": "markdown",
   "metadata": {},
   "source": [
    "#### 팩토리얼 구하기(10부터 1까지 곱하는 예)"
   ]
  },
  {
   "cell_type": "markdown",
   "metadata": {},
   "source": [
    "##### 전역"
   ]
  },
  {
   "cell_type": "code",
   "execution_count": null,
   "metadata": {},
   "outputs": [],
   "source": []
  },
  {
   "cell_type": "markdown",
   "metadata": {},
   "source": [
    "##### 함수"
   ]
  },
  {
   "cell_type": "code",
   "execution_count": 5,
   "metadata": {},
   "outputs": [],
   "source": [
    "def factorial(num):\n",
    "    if num <= 1:\n",
    "        return 1\n",
    "    return num * factorial(num-1)"
   ]
  },
  {
   "cell_type": "markdown",
   "metadata": {},
   "source": [
    "##### 메인"
   ]
  },
  {
   "cell_type": "code",
   "execution_count": 7,
   "metadata": {
    "scrolled": true
   },
   "outputs": [
    {
     "data": {
      "text/plain": [
       "3628800"
      ]
     },
     "execution_count": 7,
     "metadata": {},
     "output_type": "execute_result"
    }
   ],
   "source": [
    "factorial(10)"
   ]
  },
  {
   "cell_type": "markdown",
   "metadata": {},
   "source": [
    "---"
   ]
  },
  {
   "cell_type": "markdown",
   "metadata": {},
   "source": [
    "### 재귀 호출의 연습"
   ]
  },
  {
   "cell_type": "markdown",
   "metadata": {},
   "source": [
    "#### 우주선 발사 카운트 다운"
   ]
  },
  {
   "cell_type": "markdown",
   "metadata": {},
   "source": [
    "##### 전역"
   ]
  },
  {
   "cell_type": "code",
   "execution_count": 1,
   "metadata": {},
   "outputs": [],
   "source": []
  },
  {
   "cell_type": "markdown",
   "metadata": {},
   "source": [
    "##### 함수"
   ]
  },
  {
   "cell_type": "code",
   "execution_count": 2,
   "metadata": {},
   "outputs": [],
   "source": [
    "def countDown(n):\n",
    "    if n == 0:\n",
    "        print('start!')\n",
    "    else:\n",
    "        print(n)\n",
    "        countDown(n-1)\n"
   ]
  },
  {
   "cell_type": "markdown",
   "metadata": {},
   "source": [
    "##### 메인"
   ]
  },
  {
   "cell_type": "code",
   "execution_count": 3,
   "metadata": {},
   "outputs": [
    {
     "name": "stdout",
     "output_type": "stream",
     "text": [
      "10\n",
      "9\n",
      "8\n",
      "7\n",
      "6\n",
      "5\n",
      "4\n",
      "3\n",
      "2\n",
      "1\n",
      "start!\n"
     ]
    }
   ],
   "source": [
    "countDown(10)"
   ]
  },
  {
   "cell_type": "markdown",
   "metadata": {},
   "source": [
    "---"
   ]
  },
  {
   "cell_type": "markdown",
   "metadata": {},
   "source": [
    "#### 별 모양 출력하기 \n",
    "* 입력한 숫자만큼 차례대로 별 모양을 출력하는 코드"
   ]
  },
  {
   "cell_type": "markdown",
   "metadata": {},
   "source": [
    "##### 전역"
   ]
  },
  {
   "cell_type": "code",
   "execution_count": null,
   "metadata": {},
   "outputs": [],
   "source": []
  },
  {
   "cell_type": "markdown",
   "metadata": {},
   "source": [
    "##### 함수"
   ]
  },
  {
   "cell_type": "code",
   "execution_count": 4,
   "metadata": {},
   "outputs": [],
   "source": [
    "def printStar(num):\n",
    "    if num > 0:\n",
    "        printStar(num-1)\n",
    "        print('★' * num)"
   ]
  },
  {
   "cell_type": "markdown",
   "metadata": {},
   "source": [
    "##### 메인"
   ]
  },
  {
   "cell_type": "code",
   "execution_count": 5,
   "metadata": {},
   "outputs": [
    {
     "name": "stdout",
     "output_type": "stream",
     "text": [
      "★\n",
      "★★\n",
      "★★★\n"
     ]
    }
   ],
   "source": [
    "printStar(3)"
   ]
  },
  {
   "cell_type": "markdown",
   "metadata": {},
   "source": [
    "---"
   ]
  },
  {
   "cell_type": "markdown",
   "metadata": {},
   "source": [
    "#### 구구단 출력하기\n",
    "* 2단부터 9단까지 구구단을 출력하는 코드"
   ]
  },
  {
   "cell_type": "markdown",
   "metadata": {},
   "source": [
    "##### 전역"
   ]
  },
  {
   "cell_type": "code",
   "execution_count": null,
   "metadata": {},
   "outputs": [],
   "source": []
  },
  {
   "cell_type": "markdown",
   "metadata": {},
   "source": [
    "##### 함수"
   ]
  },
  {
   "cell_type": "code",
   "execution_count": 13,
   "metadata": {},
   "outputs": [],
   "source": [
    "def ggd(num1, num2):\n",
    "    print(f'{num1} * {num2} = {num1*num2}')\n",
    "    if num2 < 9:\n",
    "        ggd(num1, num2+1)\n",
    "        "
   ]
  },
  {
   "cell_type": "markdown",
   "metadata": {},
   "source": [
    "##### 메인"
   ]
  },
  {
   "cell_type": "code",
   "execution_count": 21,
   "metadata": {},
   "outputs": [
    {
     "name": "stdout",
     "output_type": "stream",
     "text": [
      "2 * 1 = 2\n",
      "2 * 2 = 4\n",
      "2 * 3 = 6\n",
      "2 * 4 = 8\n",
      "2 * 5 = 10\n",
      "2 * 6 = 12\n",
      "2 * 7 = 14\n",
      "2 * 8 = 16\n",
      "2 * 9 = 18\n",
      "3 * 1 = 3\n",
      "3 * 2 = 6\n",
      "3 * 3 = 9\n",
      "3 * 4 = 12\n",
      "3 * 5 = 15\n",
      "3 * 6 = 18\n",
      "3 * 7 = 21\n",
      "3 * 8 = 24\n",
      "3 * 9 = 27\n",
      "4 * 1 = 4\n",
      "4 * 2 = 8\n",
      "4 * 3 = 12\n",
      "4 * 4 = 16\n",
      "4 * 5 = 20\n",
      "4 * 6 = 24\n",
      "4 * 7 = 28\n",
      "4 * 8 = 32\n",
      "4 * 9 = 36\n",
      "5 * 1 = 5\n",
      "5 * 2 = 10\n",
      "5 * 3 = 15\n",
      "5 * 4 = 20\n",
      "5 * 5 = 25\n",
      "5 * 6 = 30\n",
      "5 * 7 = 35\n",
      "5 * 8 = 40\n",
      "5 * 9 = 45\n",
      "6 * 1 = 6\n",
      "6 * 2 = 12\n",
      "6 * 3 = 18\n",
      "6 * 4 = 24\n",
      "6 * 5 = 30\n",
      "6 * 6 = 36\n",
      "6 * 7 = 42\n",
      "6 * 8 = 48\n",
      "6 * 9 = 54\n",
      "7 * 1 = 7\n",
      "7 * 2 = 14\n",
      "7 * 3 = 21\n",
      "7 * 4 = 28\n",
      "7 * 5 = 35\n",
      "7 * 6 = 42\n",
      "7 * 7 = 49\n",
      "7 * 8 = 56\n",
      "7 * 9 = 63\n",
      "8 * 1 = 8\n",
      "8 * 2 = 16\n",
      "8 * 3 = 24\n",
      "8 * 4 = 32\n",
      "8 * 5 = 40\n",
      "8 * 6 = 48\n",
      "8 * 7 = 56\n",
      "8 * 8 = 64\n",
      "8 * 9 = 72\n",
      "9 * 1 = 9\n",
      "9 * 2 = 18\n",
      "9 * 3 = 27\n",
      "9 * 4 = 36\n",
      "9 * 5 = 45\n",
      "9 * 6 = 54\n",
      "9 * 7 = 63\n",
      "9 * 8 = 72\n",
      "9 * 9 = 81\n"
     ]
    }
   ],
   "source": [
    "for i in range(2, 10):\n",
    "    ggd(i, 1)"
   ]
  },
  {
   "cell_type": "markdown",
   "metadata": {},
   "source": [
    "---"
   ]
  },
  {
   "cell_type": "markdown",
   "metadata": {},
   "source": [
    "#### N제곱 계산하기"
   ]
  },
  {
   "cell_type": "markdown",
   "metadata": {},
   "source": [
    "##### 전역"
   ]
  },
  {
   "cell_type": "code",
   "execution_count": 29,
   "metadata": {},
   "outputs": [],
   "source": [
    "tab = ''"
   ]
  },
  {
   "cell_type": "markdown",
   "metadata": {},
   "source": [
    "##### 함수"
   ]
  },
  {
   "cell_type": "code",
   "execution_count": 33,
   "metadata": {},
   "outputs": [],
   "source": [
    "def pow(x, n):\n",
    "    global tab\n",
    "    tab += '  '\n",
    "    if n == 0:\n",
    "        return 1\n",
    "    print(f'{tab}{x}*{x}^{n}-{1}')\n",
    "    return x * pow(x, n-1)"
   ]
  },
  {
   "cell_type": "markdown",
   "metadata": {},
   "source": [
    "##### 메인"
   ]
  },
  {
   "cell_type": "code",
   "execution_count": 34,
   "metadata": {},
   "outputs": [
    {
     "name": "stdout",
     "output_type": "stream",
     "text": [
      "      3*3^3-1\n",
      "        3*3^2-1\n",
      "          3*3^1-1\n"
     ]
    },
    {
     "data": {
      "text/plain": [
       "27"
      ]
     },
     "execution_count": 34,
     "metadata": {},
     "output_type": "execute_result"
    }
   ],
   "source": [
    "pow(3,3)"
   ]
  },
  {
   "cell_type": "markdown",
   "metadata": {},
   "source": [
    "---"
   ]
  },
  {
   "cell_type": "markdown",
   "metadata": {},
   "source": [
    "#### 배열의 합 계산하기\n",
    "* 랜덤하게 생성한 배열의 합계를 구하는 코드"
   ]
  },
  {
   "cell_type": "markdown",
   "metadata": {},
   "source": [
    "##### 전역"
   ]
  },
  {
   "cell_type": "code",
   "execution_count": 56,
   "metadata": {},
   "outputs": [],
   "source": [
    "import random\n",
    "ary = [random.randint(0, 225) for _ in range(10)]"
   ]
  },
  {
   "cell_type": "markdown",
   "metadata": {},
   "source": [
    "##### 함수"
   ]
  },
  {
   "cell_type": "code",
   "execution_count": 57,
   "metadata": {},
   "outputs": [],
   "source": [
    "def arySum(ary, n):\n",
    "    if n <= 0:\n",
    "        return ary[0]\n",
    "    return arySum(ary, n-1) + ary[n]\n"
   ]
  },
  {
   "cell_type": "markdown",
   "metadata": {},
   "source": [
    "##### 메인"
   ]
  },
  {
   "cell_type": "code",
   "execution_count": 60,
   "metadata": {
    "scrolled": true
   },
   "outputs": [
    {
     "name": "stdout",
     "output_type": "stream",
     "text": [
      "[20, 185, 8, 166, 205, 68, 83, 123, 192, 220]\n",
      "합계 -> 1270\n"
     ]
    }
   ],
   "source": [
    "print(ary)\n",
    "print('합계 ->', arySum(ary, len(ary)-1))\n"
   ]
  }
 ],
 "metadata": {
  "kernelspec": {
   "display_name": "Python 3",
   "language": "python",
   "name": "python3"
  },
  "language_info": {
   "codemirror_mode": {
    "name": "ipython",
    "version": 3
   },
   "file_extension": ".py",
   "mimetype": "text/x-python",
   "name": "python",
   "nbconvert_exporter": "python",
   "pygments_lexer": "ipython3",
   "version": "3.8.5"
  }
 },
 "nbformat": 4,
 "nbformat_minor": 4
}
