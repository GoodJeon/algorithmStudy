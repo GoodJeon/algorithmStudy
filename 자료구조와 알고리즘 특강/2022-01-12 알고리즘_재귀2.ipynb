{
 "cells": [
  {
   "cell_type": "markdown",
   "metadata": {},
   "source": [
    "### 재귀 호출의 기본"
   ]
  },
  {
   "cell_type": "markdown",
   "metadata": {},
   "source": [
    "#### 전역"
   ]
  },
  {
   "cell_type": "code",
   "execution_count": 1,
   "metadata": {},
   "outputs": [],
   "source": [
    "count = 10 # 10번만 작동하게 변수 작성"
   ]
  },
  {
   "cell_type": "markdown",
   "metadata": {},
   "source": [
    "#### 함수"
   ]
  },
  {
   "cell_type": "code",
   "execution_count": 2,
   "metadata": {},
   "outputs": [],
   "source": [
    "def openBox():\n",
    "    global count\n",
    "    print('종이 상자 열기~~~')\n",
    "    count -= 1\n",
    "    if count == 0:\n",
    "        print('** 반지 넣기 **')\n",
    "        return\n",
    "    openBox()\n",
    "    print('종이 상자 닫기!')\n",
    "    return\n",
    "\n"
   ]
  },
  {
   "cell_type": "markdown",
   "metadata": {},
   "source": [
    "#### 메인"
   ]
  },
  {
   "cell_type": "code",
   "execution_count": 3,
   "metadata": {},
   "outputs": [
    {
     "name": "stdout",
     "output_type": "stream",
     "text": [
      "종이 상자 열기~~~\n",
      "종이 상자 열기~~~\n",
      "종이 상자 열기~~~\n",
      "종이 상자 열기~~~\n",
      "종이 상자 열기~~~\n",
      "종이 상자 열기~~~\n",
      "종이 상자 열기~~~\n",
      "종이 상자 열기~~~\n",
      "종이 상자 열기~~~\n",
      "종이 상자 열기~~~\n",
      "** 반지 넣기 **\n",
      "종이 상자 닫기!\n",
      "종이 상자 닫기!\n",
      "종이 상자 닫기!\n",
      "종이 상자 닫기!\n",
      "종이 상자 닫기!\n",
      "종이 상자 닫기!\n",
      "종이 상자 닫기!\n",
      "종이 상자 닫기!\n",
      "종이 상자 닫기!\n"
     ]
    }
   ],
   "source": [
    "openBox()"
   ]
  }
 ],
 "metadata": {
  "kernelspec": {
   "display_name": "Python 3",
   "language": "python",
   "name": "python3"
  },
  "language_info": {
   "codemirror_mode": {
    "name": "ipython",
    "version": 3
   },
   "file_extension": ".py",
   "mimetype": "text/x-python",
   "name": "python",
   "nbconvert_exporter": "python",
   "pygments_lexer": "ipython3",
   "version": "3.8.5"
  }
 },
 "nbformat": 4,
 "nbformat_minor": 4
}
