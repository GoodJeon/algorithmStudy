{
 "cells": [
  {
   "cell_type": "markdown",
   "metadata": {},
   "source": [
    "# 큐"
   ]
  },
  {
   "cell_type": "markdown",
   "metadata": {},
   "source": [
    "## 큐 구현"
   ]
  },
  {
   "cell_type": "markdown",
   "metadata": {},
   "source": [
    "### 전역"
   ]
  },
  {
   "cell_type": "code",
   "execution_count": 8,
   "metadata": {},
   "outputs": [],
   "source": [
    "SIZE = 5\n",
    "queue = [None for _ in range(SIZE)] # list_comprehension으로 queue  생성\n",
    "front = rear = -1"
   ]
  },
  {
   "cell_type": "markdown",
   "metadata": {},
   "source": [
    "### 함수"
   ]
  },
  {
   "cell_type": "code",
   "execution_count": 9,
   "metadata": {},
   "outputs": [],
   "source": [
    "def isQueueFull(): # 큐가 꽉찼는지 확인하는 함수\n",
    "    global SIZE, queue, front, rear\n",
    "    if (rear != SIZE-1):\n",
    "        return False\n",
    "    elif (rear == SIZE-1 and front == -1):\n",
    "        return True\n",
    "    else:\n",
    "        for i in range(front+1, SIZE) :\n",
    "            queue[i-1]  = queue[i]\n",
    "            queue[i] = None\n",
    "        front -= 1\n",
    "        rear -= 1\n",
    "        return False\n",
    "    \n",
    "    \n",
    "def isQueueEmpty(): # 큐가 비었는지 확인하는 함수\n",
    "    global SIZE, queue, front, rear\n",
    "    if (rear == front):\n",
    "        return True\n",
    "    else:\n",
    "        return False\n",
    "    \n",
    "    \n",
    "def enQueue(data): # 큐에 데이터를 넣는 함수\n",
    "    global SIZE, queue, front, rear\n",
    "    if (isQueueFull()):\n",
    "        print('큐가 꽉 찼습니다.')\n",
    "        return\n",
    "    rear += 1\n",
    "    queue[rear] = data\n",
    "    \n",
    "\n",
    "\n",
    "def deQueue(): # 큐에서 데이터를 빼는 함수\n",
    "    global SIZE, queue, front, rear\n",
    "    if isQueueEmpty():\n",
    "        print('큐가 비었습니다.')\n",
    "        return None\n",
    "    front += 1\n",
    "    data = queue[front]\n",
    "    queue[front] = None\n",
    "    return data\n",
    "\n",
    "\n",
    "def peek(): # 다음 나올 데이터를 알려주는 함수\n",
    "    global SIZE, queue, front, rear\n",
    "    if isQueueEmpty():\n",
    "        print('큐가 비었습니다.')\n",
    "        return None\n",
    "    return queue[front+1]"
   ]
  },
  {
   "cell_type": "markdown",
   "metadata": {},
   "source": [
    "### 메인"
   ]
  },
  {
   "cell_type": "code",
   "execution_count": 10,
   "metadata": {},
   "outputs": [
    {
     "name": "stdout",
     "output_type": "stream",
     "text": [
      "출구<----- ['화사', '솔라', '문별', '선미', '동준'] <-----입구\n",
      "밥 손님 :  화사\n",
      "밥 손님 :  솔라\n",
      "[None, None, '문별', '선미', '동준']\n",
      "출구<----- [None, '문별', '선미', '동준', '아이유'] <-----입구\n"
     ]
    }
   ],
   "source": [
    "enQueue('화사')\n",
    "enQueue('솔라')\n",
    "enQueue('문별')\n",
    "enQueue('선미')\n",
    "enQueue('동준')\n",
    "print('출구<-----',queue,'<-----입구')\n",
    "print('밥 손님 : ', deQueue())\n",
    "print('밥 손님 : ', deQueue())\n",
    "print(queue)\n",
    "enQueue('아이유') \n",
    "print('출구<-----',queue,'<-----입구')"
   ]
  }
 ],
 "metadata": {
  "kernelspec": {
   "display_name": "Python 3",
   "language": "python",
   "name": "python3"
  },
  "language_info": {
   "codemirror_mode": {
    "name": "ipython",
    "version": 3
   },
   "file_extension": ".py",
   "mimetype": "text/x-python",
   "name": "python",
   "nbconvert_exporter": "python",
   "pygments_lexer": "ipython3",
   "version": "3.8.5"
  }
 },
 "nbformat": 4,
 "nbformat_minor": 4
}
