{
 "cells": [
  {
   "cell_type": "markdown",
   "metadata": {},
   "source": [
    "### 이진 검색"
   ]
  },
  {
   "cell_type": "markdown",
   "metadata": {},
   "source": [
    "#### 전역"
   ]
  },
  {
   "cell_type": "code",
   "execution_count": 2,
   "metadata": {},
   "outputs": [],
   "source": [
    "import random\n",
    "SIZE = 10\n",
    "dataAry = [random.randint(1,99) for _ in range(SIZE)]\n",
    "findData = dataAry[random.randint(0, SIZE-1)]\n",
    "dataAry.sort()"
   ]
  },
  {
   "cell_type": "markdown",
   "metadata": {},
   "source": [
    "#### 함수"
   ]
  },
  {
   "cell_type": "code",
   "execution_count": 5,
   "metadata": {},
   "outputs": [],
   "source": [
    "def binSearch(ary, fData):\n",
    "    pos  = -1\n",
    "    start = 0\n",
    "    end = len(ary) - 1\n",
    "    while (start <= end):\n",
    "        mid = (start + end) // 2\n",
    "        if fData == ary[mid]:\n",
    "            return mid\n",
    "        elif fData > ary[mid]:\n",
    "            start = mid + 1\n",
    "        else:\n",
    "            end = mid - 1\n",
    "    \n",
    "    \n",
    "    return pos\n",
    "        "
   ]
  },
  {
   "cell_type": "markdown",
   "metadata": {},
   "source": [
    "#### 메인"
   ]
  },
  {
   "cell_type": "code",
   "execution_count": 6,
   "metadata": {},
   "outputs": [
    {
     "name": "stdout",
     "output_type": "stream",
     "text": [
      "배열--> [9, 14, 18, 24, 30, 54, 56, 58, 60, 94]\n",
      "24 가 3  에 있음\n"
     ]
    }
   ],
   "source": [
    "print('배열-->', dataAry)\n",
    "position = binSearch(dataAry, findData)\n",
    "if position == -1:\n",
    "    print(findData, '없어요 ㅠ')\n",
    "else:\n",
    "    print(findData, '가', position, ' 에 있음')"
   ]
  }
 ],
 "metadata": {
  "kernelspec": {
   "display_name": "Python 3",
   "language": "python",
   "name": "python3"
  },
  "language_info": {
   "codemirror_mode": {
    "name": "ipython",
    "version": 3
   },
   "file_extension": ".py",
   "mimetype": "text/x-python",
   "name": "python",
   "nbconvert_exporter": "python",
   "pygments_lexer": "ipython3",
   "version": "3.8.5"
  }
 },
 "nbformat": 4,
 "nbformat_minor": 4
}
