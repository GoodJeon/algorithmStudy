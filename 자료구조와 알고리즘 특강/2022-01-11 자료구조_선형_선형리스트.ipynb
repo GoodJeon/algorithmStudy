{
 "cells": [
  {
   "cell_type": "markdown",
   "metadata": {},
   "source": [
    "# 선형리스트\n",
    "- 파이썬의 리스트를 생각하면 안된다! 배열, 따다닥 붙어있다"
   ]
  },
  {
   "cell_type": "markdown",
   "metadata": {},
   "source": [
    "## 선형리스트 예"
   ]
  },
  {
   "cell_type": "markdown",
   "metadata": {},
   "source": [
    "### 함수 선언부"
   ]
  },
  {
   "cell_type": "code",
   "execution_count": 3,
   "metadata": {},
   "outputs": [],
   "source": [
    "def add_data(friend):\n",
    "    katok.append(None) # 빈칸 추가\n",
    "    kLen = len(katok)\n",
    "    katok[kLen-1] = friend"
   ]
  },
  {
   "cell_type": "code",
   "execution_count": 4,
   "metadata": {},
   "outputs": [],
   "source": [
    "def insert_data(position, friend): # 3, '미나'\n",
    "    katok.append(None)\n",
    "    kLen = len(katok)\n",
    "    for i in range(kLen-1, position, -1):\n",
    "        katok[i] = katok[i-1]\n",
    "        katok[i-1] = None\n",
    "    katok[position] = friend"
   ]
  },
  {
   "cell_type": "code",
   "execution_count": 5,
   "metadata": {},
   "outputs": [],
   "source": [
    "def delete_data(position): # 4\n",
    "    katok[position] = None\n",
    "    kLen = len(katok)\n",
    "    for i in range(position+1, kLen, 1):\n",
    "        katok[i-1] = katok[i]\n",
    "        katok[i] = None\n",
    "    del(katok[kLen-1])\n"
   ]
  },
  {
   "cell_type": "markdown",
   "metadata": {},
   "source": [
    "###  전역 변수부"
   ]
  },
  {
   "cell_type": "code",
   "execution_count": 6,
   "metadata": {},
   "outputs": [],
   "source": [
    "katok = []"
   ]
  },
  {
   "cell_type": "markdown",
   "metadata": {},
   "source": [
    "### 메인 코드부"
   ]
  },
  {
   "cell_type": "code",
   "execution_count": 7,
   "metadata": {},
   "outputs": [
    {
     "name": "stdout",
     "output_type": "stream",
     "text": [
      "['다현', '정연', '쯔위', '미나', '지효', '모모']\n"
     ]
    }
   ],
   "source": [
    "add_data('다현')\n",
    "add_data('정연')\n",
    "add_data('쯔위')\n",
    "add_data('사나')\n",
    "add_data('지효')\n",
    "add_data('모모')\n",
    "\n",
    "insert_data(3, '미나') # 3 위치에 미나를 추가\n",
    "\n",
    "delete_data(4) # 4위치에 있는 사나가 지워짐\n",
    "\n",
    "print(katok)"
   ]
  },
  {
   "cell_type": "markdown",
   "metadata": {},
   "source": [
    "* 함수를 사용해 추가, 삽입, 삭제 하는 프로그램 구현"
   ]
  },
  {
   "cell_type": "code",
   "execution_count": 8,
   "metadata": {},
   "outputs": [
    {
     "name": "stdout",
     "output_type": "stream",
     "text": [
      "선택하시오(1: 추가, 2: 삽입, 3: 삭제, 4: 종료) : 1\n",
      "추가할 데이터 : 민경\n",
      "['다현', '정연', '쯔위', '미나', '지효', '모모', '민경']\n",
      "선택하시오(1: 추가, 2: 삽입, 3: 삭제, 4: 종료) : 1\n",
      "추가할 데이터 : 동준\n",
      "['다현', '정연', '쯔위', '미나', '지효', '모모', '민경', '동준']\n",
      "선택하시오(1: 추가, 2: 삽입, 3: 삭제, 4: 종료) : 2\n",
      "삽입할 위치 : 0\n",
      "추가할 데이터 : 박진영\n",
      "['박진영', '다현', '정연', '쯔위', '미나', '지효', '모모', '민경', '동준']\n",
      "선택하시오(1: 추가, 2: 삽입, 3: 삭제, 4: 종료) : 4\n",
      "['박진영', '다현', '정연', '쯔위', '미나', '지효', '모모', '민경', '동준']\n"
     ]
    }
   ],
   "source": [
    "if __name__ == '__main__':\n",
    "    \n",
    "    while True:\n",
    "        \n",
    "        select = int(input('선택하시오(1: 추가, 2: 삽입, 3: 삭제, 4: 종료) : '))\n",
    "        \n",
    "        if select == 1:\n",
    "            data = input('추가할 데이터 : ')\n",
    "            add_data(data)\n",
    "            print(katok)\n",
    "            \n",
    "    \n",
    "        elif select == 2:\n",
    "            pos = int(input('삽입할 위치 : '))\n",
    "            data = input('추가할 데이터 : ')\n",
    "            insert_data(pos, data)\n",
    "            print(katok)\n",
    "            \n",
    "        elif select == 3:\n",
    "            pos = int(input('삭제할 위치 : '))\n",
    "            delete_data(pos)\n",
    "            print(katok)\n",
    "            \n",
    "        elif select == 4:\n",
    "            print(katok)\n",
    "            break\n",
    "        else:\n",
    "            print('잘 못 입력하셨습니다.1~4 의 숫자를 입력하세요.')\n",
    "            continue"
   ]
  }
 ],
 "metadata": {
  "kernelspec": {
   "display_name": "Python 3",
   "language": "python",
   "name": "python3"
  },
  "language_info": {
   "codemirror_mode": {
    "name": "ipython",
    "version": 3
   },
   "file_extension": ".py",
   "mimetype": "text/x-python",
   "name": "python",
   "nbconvert_exporter": "python",
   "pygments_lexer": "ipython3",
   "version": "3.8.5"
  }
 },
 "nbformat": 4,
 "nbformat_minor": 4
}
